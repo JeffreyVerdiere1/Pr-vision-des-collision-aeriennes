{
 "cells": [
  {
   "cell_type": "markdown",
   "id": "4e121b51",
   "metadata": {},
   "source": [
    "# **Sujet centrale Informatique 2016: Prévision des collisions aériennes**"
   ]
  },
  {
   "cell_type": "markdown",
   "id": "2de41bc5",
   "metadata": {},
   "source": [
    "**Importation des modules nécessaires**"
   ]
  },
  {
   "cell_type": "code",
   "execution_count": 33,
   "id": "2e83b2a0",
   "metadata": {},
   "outputs": [],
   "source": [
    "import numpy as np\n",
    "import matplotlib.pyplot as plt\n",
    "import pandas as pd"
   ]
  },
  {
   "cell_type": "code",
   "execution_count": 58,
   "id": "79c07eab",
   "metadata": {},
   "outputs": [
    {
     "name": "stdout",
     "output_type": "stream",
     "text": [
      "Collecting pandasql\n",
      "  Downloading pandasql-0.7.3.tar.gz (26 kB)\n",
      "  Preparing metadata (setup.py): started\n",
      "  Preparing metadata (setup.py): finished with status 'done'\n",
      "Requirement already satisfied: numpy in c:\\users\\jeffrey.verdiere\\documents\\sujet centrale info\\venv\\lib\\site-packages (from pandasql) (1.23.2)\n",
      "Requirement already satisfied: pandas in c:\\users\\jeffrey.verdiere\\documents\\sujet centrale info\\venv\\lib\\site-packages (from pandasql) (1.4.3)\n",
      "Collecting sqlalchemy\n",
      "  Downloading SQLAlchemy-1.4.40-cp39-cp39-win_amd64.whl (1.6 MB)\n",
      "     ---------------------------------------- 1.6/1.6 MB 3.4 MB/s eta 0:00:00\n",
      "Requirement already satisfied: pytz>=2020.1 in c:\\users\\jeffrey.verdiere\\documents\\sujet centrale info\\venv\\lib\\site-packages (from pandas->pandasql) (2022.2.1)\n",
      "Requirement already satisfied: python-dateutil>=2.8.1 in c:\\users\\jeffrey.verdiere\\documents\\sujet centrale info\\venv\\lib\\site-packages (from pandas->pandasql) (2.8.2)\n",
      "Collecting greenlet!=0.4.17\n",
      "  Downloading greenlet-1.1.2-cp39-cp39-win_amd64.whl (101 kB)\n",
      "     ---------------------------------------- 101.9/101.9 KB ? eta 0:00:00\n",
      "Requirement already satisfied: six>=1.5 in c:\\users\\jeffrey.verdiere\\documents\\sujet centrale info\\venv\\lib\\site-packages (from python-dateutil>=2.8.1->pandas->pandasql) (1.16.0)\n",
      "Using legacy 'setup.py install' for pandasql, since package 'wheel' is not installed.\n",
      "Installing collected packages: greenlet, sqlalchemy, pandasql\n",
      "  Running setup.py install for pandasql: started\n",
      "  Running setup.py install for pandasql: finished with status 'done'\n",
      "Successfully installed greenlet-1.1.2 pandasql-0.7.3 sqlalchemy-1.4.40\n"
     ]
    },
    {
     "name": "stderr",
     "output_type": "stream",
     "text": [
      "WARNING: You are using pip version 22.0.4; however, version 22.2.2 is available.\n",
      "You should consider upgrading via the 'C:\\Users\\jeffrey.verdiere\\Documents\\Sujet centrale info\\venv\\Scripts\\python.exe -m pip install --upgrade pip' command.\n"
     ]
    }
   ],
   "source": [
    "!pip install pandasql"
   ]
  },
  {
   "cell_type": "code",
   "execution_count": 59,
   "id": "f5a297f8",
   "metadata": {},
   "outputs": [],
   "source": [
    "from pandasql import sqldf"
   ]
  },
  {
   "cell_type": "markdown",
   "id": "48ead365",
   "metadata": {},
   "source": [
    "**0) Petits rappel sur SQL**"
   ]
  },
  {
   "cell_type": "markdown",
   "id": "c4e97aef",
   "metadata": {},
   "source": [
    "Création de la table prof"
   ]
  },
  {
   "cell_type": "code",
   "execution_count": 71,
   "id": "31a2b97e",
   "metadata": {},
   "outputs": [
    {
     "data": {
      "text/html": [
       "<div>\n",
       "<style scoped>\n",
       "    .dataframe tbody tr th:only-of-type {\n",
       "        vertical-align: middle;\n",
       "    }\n",
       "\n",
       "    .dataframe tbody tr th {\n",
       "        vertical-align: top;\n",
       "    }\n",
       "\n",
       "    .dataframe thead th {\n",
       "        text-align: right;\n",
       "    }\n",
       "</style>\n",
       "<table border=\"1\" class=\"dataframe\">\n",
       "  <thead>\n",
       "    <tr style=\"text-align: right;\">\n",
       "      <th></th>\n",
       "      <th>Id</th>\n",
       "      <th>Nom</th>\n",
       "      <th>Prenom</th>\n",
       "      <th>Tel</th>\n",
       "      <th>Salle</th>\n",
       "    </tr>\n",
       "  </thead>\n",
       "  <tbody>\n",
       "    <tr>\n",
       "      <th>0</th>\n",
       "      <td>1</td>\n",
       "      <td>Ferriere</td>\n",
       "      <td>Eve</td>\n",
       "      <td>06-02</td>\n",
       "      <td>28</td>\n",
       "    </tr>\n",
       "    <tr>\n",
       "      <th>1</th>\n",
       "      <td>2</td>\n",
       "      <td>Bregeaut</td>\n",
       "      <td>Diale</td>\n",
       "      <td>06-02</td>\n",
       "      <td>29</td>\n",
       "    </tr>\n",
       "    <tr>\n",
       "      <th>2</th>\n",
       "      <td>3</td>\n",
       "      <td>Ducoat</td>\n",
       "      <td>Jerome</td>\n",
       "      <td>06-02</td>\n",
       "      <td>30</td>\n",
       "    </tr>\n",
       "    <tr>\n",
       "      <th>3</th>\n",
       "      <td>4</td>\n",
       "      <td>Rohart</td>\n",
       "      <td>Vincent</td>\n",
       "      <td>06-02</td>\n",
       "      <td>31</td>\n",
       "    </tr>\n",
       "    <tr>\n",
       "      <th>4</th>\n",
       "      <td>5</td>\n",
       "      <td>Daniel</td>\n",
       "      <td>Teddy</td>\n",
       "      <td>06-02</td>\n",
       "      <td>40</td>\n",
       "    </tr>\n",
       "  </tbody>\n",
       "</table>\n",
       "</div>"
      ],
      "text/plain": [
       "   Id       Nom   Prenom    Tel  Salle\n",
       "0   1  Ferriere      Eve  06-02     28\n",
       "1   2  Bregeaut    Diale  06-02     29\n",
       "2   3    Ducoat   Jerome  06-02     30\n",
       "3   4    Rohart  Vincent  06-02     31\n",
       "4   5    Daniel    Teddy  06-02     40"
      ]
     },
     "execution_count": 71,
     "metadata": {},
     "output_type": "execute_result"
    }
   ],
   "source": [
    "Id = [1,2,3,4,5,6]\n",
    "Nom = ['Ferriere','Bregeaut','Ducoat','Rohart','Daniel','Lisles']\n",
    "Prenom = ['Eve','Diale','Jerome','Vincent','Teddy']\n",
    "Tel = ['06-02','06-02','06-02','06-02','06-02','06-02']\n",
    "Salle = [28,29,30,31,40,47]\n",
    "Cle_primaire = 'Id'\n",
    "\n",
    "table_prof = pd.DataFrame(list(zip(Id,Nom,Prenom,Tel,Salle)),\n",
    "                         columns =['Id', 'Nom','Prenom','Tel','Salle'])\n",
    "table_prof"
   ]
  },
  {
   "cell_type": "markdown",
   "id": "f0d11eda",
   "metadata": {},
   "source": [
    "Création de la table élèves"
   ]
  },
  {
   "cell_type": "code",
   "execution_count": 87,
   "id": "385dec32",
   "metadata": {},
   "outputs": [
    {
     "data": {
      "text/html": [
       "<div>\n",
       "<style scoped>\n",
       "    .dataframe tbody tr th:only-of-type {\n",
       "        vertical-align: middle;\n",
       "    }\n",
       "\n",
       "    .dataframe tbody tr th {\n",
       "        vertical-align: top;\n",
       "    }\n",
       "\n",
       "    .dataframe thead th {\n",
       "        text-align: right;\n",
       "    }\n",
       "</style>\n",
       "<table border=\"1\" class=\"dataframe\">\n",
       "  <thead>\n",
       "    <tr style=\"text-align: right;\">\n",
       "      <th></th>\n",
       "      <th>Id</th>\n",
       "      <th>Nom</th>\n",
       "      <th>Prenom</th>\n",
       "      <th>Adresse</th>\n",
       "      <th>CP</th>\n",
       "      <th>Ville</th>\n",
       "      <th>Tel</th>\n",
       "      <th>Num_prof</th>\n",
       "    </tr>\n",
       "  </thead>\n",
       "  <tbody>\n",
       "    <tr>\n",
       "      <th>0</th>\n",
       "      <td>40</td>\n",
       "      <td>Verdiere</td>\n",
       "      <td>Jeffrey</td>\n",
       "      <td>27 aven roche</td>\n",
       "      <td>92300</td>\n",
       "      <td>Levallois</td>\n",
       "      <td>06-02</td>\n",
       "      <td>1</td>\n",
       "    </tr>\n",
       "    <tr>\n",
       "      <th>1</th>\n",
       "      <td>41</td>\n",
       "      <td>laine</td>\n",
       "      <td>romain</td>\n",
       "      <td>122 rue Neu</td>\n",
       "      <td>7500</td>\n",
       "      <td>Neuilly</td>\n",
       "      <td>06-02</td>\n",
       "      <td>2</td>\n",
       "    </tr>\n",
       "    <tr>\n",
       "      <th>2</th>\n",
       "      <td>42</td>\n",
       "      <td>tixier</td>\n",
       "      <td>maxime</td>\n",
       "      <td>130 rue sal</td>\n",
       "      <td>92200</td>\n",
       "      <td>Plessy</td>\n",
       "      <td>06-02</td>\n",
       "      <td>3</td>\n",
       "    </tr>\n",
       "    <tr>\n",
       "      <th>3</th>\n",
       "      <td>43</td>\n",
       "      <td>Chevallier</td>\n",
       "      <td>jules</td>\n",
       "      <td>29 rue dia</td>\n",
       "      <td>93300</td>\n",
       "      <td>Cannes</td>\n",
       "      <td>06-02</td>\n",
       "      <td>4</td>\n",
       "    </tr>\n",
       "    <tr>\n",
       "      <th>4</th>\n",
       "      <td>44</td>\n",
       "      <td>chatillon</td>\n",
       "      <td>louis</td>\n",
       "      <td>34 ave ou</td>\n",
       "      <td>91200</td>\n",
       "      <td>Nice</td>\n",
       "      <td>06-02</td>\n",
       "      <td>5</td>\n",
       "    </tr>\n",
       "  </tbody>\n",
       "</table>\n",
       "</div>"
      ],
      "text/plain": [
       "   Id         Nom   Prenom        Adresse     CP      Ville    Tel  Num_prof\n",
       "0  40    Verdiere  Jeffrey  27 aven roche  92300  Levallois  06-02         1\n",
       "1  41       laine   romain    122 rue Neu   7500    Neuilly  06-02         2\n",
       "2  42      tixier   maxime    130 rue sal  92200     Plessy  06-02         3\n",
       "3  43  Chevallier    jules     29 rue dia  93300     Cannes  06-02         4\n",
       "4  44   chatillon    louis      34 ave ou  91200       Nice  06-02         5"
      ]
     },
     "execution_count": 87,
     "metadata": {},
     "output_type": "execute_result"
    }
   ],
   "source": [
    "id = [40,41,42,43,44,45]\n",
    "Nom = ['Verdiere','laine','tixier','Chevallier','chatillon','Aboville']\n",
    "Prenom = ['Jeffrey','romain','maxime','jules','louis']\n",
    "Adresse = ['27 aven roche','122 rue Neu','130 rue sal','29 rue dia','34 ave ou','27 rue jou']\n",
    "CP = ['92300','7500','92200','93300','91200','93300']\n",
    "Ville = ['Levallois','Neuilly','Plessy','Cannes','Nice','Nice']\n",
    "Tel = ['06-02','06-02','06-02','06-02','06-02','06-02']\n",
    "Num_prof = [1,2,3,4,5,6]\n",
    "\n",
    "Cle_etrangere = Num_prof \n",
    "\n",
    "table_eleve = pd.DataFrame(list(zip(id,Nom,Prenom,Adresse,CP,Ville,Tel,Num_prof)),\n",
    "                         columns =['Id', 'Nom','Prenom','Adresse','CP','Ville','Tel','Num_prof'])\n",
    "table_eleve"
   ]
  },
  {
   "cell_type": "markdown",
   "id": "63f7fb93",
   "metadata": {},
   "source": [
    "**Petits exemples de requettes SQL**"
   ]
  },
  {
   "cell_type": "markdown",
   "id": "07d7d6e1",
   "metadata": {},
   "source": [
    "**La selection**"
   ]
  },
  {
   "cell_type": "markdown",
   "id": "0b9aafd2",
   "metadata": {},
   "source": [
    "Afficher l'ensemble des informations sur les élèves"
   ]
  },
  {
   "cell_type": "code",
   "execution_count": 88,
   "id": "b83cf99f",
   "metadata": {},
   "outputs": [
    {
     "data": {
      "text/html": [
       "<div>\n",
       "<style scoped>\n",
       "    .dataframe tbody tr th:only-of-type {\n",
       "        vertical-align: middle;\n",
       "    }\n",
       "\n",
       "    .dataframe tbody tr th {\n",
       "        vertical-align: top;\n",
       "    }\n",
       "\n",
       "    .dataframe thead th {\n",
       "        text-align: right;\n",
       "    }\n",
       "</style>\n",
       "<table border=\"1\" class=\"dataframe\">\n",
       "  <thead>\n",
       "    <tr style=\"text-align: right;\">\n",
       "      <th></th>\n",
       "      <th>Id</th>\n",
       "      <th>Nom</th>\n",
       "      <th>Prenom</th>\n",
       "      <th>Adresse</th>\n",
       "      <th>CP</th>\n",
       "      <th>Ville</th>\n",
       "      <th>Tel</th>\n",
       "      <th>Num_prof</th>\n",
       "    </tr>\n",
       "  </thead>\n",
       "  <tbody>\n",
       "    <tr>\n",
       "      <th>0</th>\n",
       "      <td>40</td>\n",
       "      <td>Verdiere</td>\n",
       "      <td>Jeffrey</td>\n",
       "      <td>27 aven roche</td>\n",
       "      <td>92300</td>\n",
       "      <td>Levallois</td>\n",
       "      <td>06-02</td>\n",
       "      <td>1</td>\n",
       "    </tr>\n",
       "    <tr>\n",
       "      <th>1</th>\n",
       "      <td>41</td>\n",
       "      <td>laine</td>\n",
       "      <td>romain</td>\n",
       "      <td>122 rue Neu</td>\n",
       "      <td>7500</td>\n",
       "      <td>Neuilly</td>\n",
       "      <td>06-02</td>\n",
       "      <td>2</td>\n",
       "    </tr>\n",
       "    <tr>\n",
       "      <th>2</th>\n",
       "      <td>42</td>\n",
       "      <td>tixier</td>\n",
       "      <td>maxime</td>\n",
       "      <td>130 rue sal</td>\n",
       "      <td>92200</td>\n",
       "      <td>Plessy</td>\n",
       "      <td>06-02</td>\n",
       "      <td>3</td>\n",
       "    </tr>\n",
       "    <tr>\n",
       "      <th>3</th>\n",
       "      <td>43</td>\n",
       "      <td>Chevallier</td>\n",
       "      <td>jules</td>\n",
       "      <td>29 rue dia</td>\n",
       "      <td>93300</td>\n",
       "      <td>Cannes</td>\n",
       "      <td>06-02</td>\n",
       "      <td>4</td>\n",
       "    </tr>\n",
       "    <tr>\n",
       "      <th>4</th>\n",
       "      <td>44</td>\n",
       "      <td>chatillon</td>\n",
       "      <td>louis</td>\n",
       "      <td>34 ave ou</td>\n",
       "      <td>91200</td>\n",
       "      <td>Nice</td>\n",
       "      <td>06-02</td>\n",
       "      <td>5</td>\n",
       "    </tr>\n",
       "  </tbody>\n",
       "</table>\n",
       "</div>"
      ],
      "text/plain": [
       "   Id         Nom   Prenom        Adresse     CP      Ville    Tel  Num_prof\n",
       "0  40    Verdiere  Jeffrey  27 aven roche  92300  Levallois  06-02         1\n",
       "1  41       laine   romain    122 rue Neu   7500    Neuilly  06-02         2\n",
       "2  42      tixier   maxime    130 rue sal  92200     Plessy  06-02         3\n",
       "3  43  Chevallier    jules     29 rue dia  93300     Cannes  06-02         4\n",
       "4  44   chatillon    louis      34 ave ou  91200       Nice  06-02         5"
      ]
     },
     "execution_count": 88,
     "metadata": {},
     "output_type": "execute_result"
    }
   ],
   "source": [
    "q = \"\"\"SELECT *\n",
    "    FROM table_eleve\n",
    "       \"\"\"\n",
    "\n",
    "names = pysqldf(q)\n",
    "names"
   ]
  },
  {
   "cell_type": "markdown",
   "id": "98dddd12",
   "metadata": {},
   "source": [
    "Afficher le nom et les prénoms des élèves"
   ]
  },
  {
   "cell_type": "code",
   "execution_count": 89,
   "id": "0192f9ef",
   "metadata": {},
   "outputs": [
    {
     "data": {
      "text/html": [
       "<div>\n",
       "<style scoped>\n",
       "    .dataframe tbody tr th:only-of-type {\n",
       "        vertical-align: middle;\n",
       "    }\n",
       "\n",
       "    .dataframe tbody tr th {\n",
       "        vertical-align: top;\n",
       "    }\n",
       "\n",
       "    .dataframe thead th {\n",
       "        text-align: right;\n",
       "    }\n",
       "</style>\n",
       "<table border=\"1\" class=\"dataframe\">\n",
       "  <thead>\n",
       "    <tr style=\"text-align: right;\">\n",
       "      <th></th>\n",
       "      <th>Nom</th>\n",
       "      <th>Prenom</th>\n",
       "    </tr>\n",
       "  </thead>\n",
       "  <tbody>\n",
       "    <tr>\n",
       "      <th>0</th>\n",
       "      <td>Verdiere</td>\n",
       "      <td>Jeffrey</td>\n",
       "    </tr>\n",
       "    <tr>\n",
       "      <th>1</th>\n",
       "      <td>laine</td>\n",
       "      <td>romain</td>\n",
       "    </tr>\n",
       "    <tr>\n",
       "      <th>2</th>\n",
       "      <td>tixier</td>\n",
       "      <td>maxime</td>\n",
       "    </tr>\n",
       "    <tr>\n",
       "      <th>3</th>\n",
       "      <td>Chevallier</td>\n",
       "      <td>jules</td>\n",
       "    </tr>\n",
       "    <tr>\n",
       "      <th>4</th>\n",
       "      <td>chatillon</td>\n",
       "      <td>louis</td>\n",
       "    </tr>\n",
       "  </tbody>\n",
       "</table>\n",
       "</div>"
      ],
      "text/plain": [
       "          Nom   Prenom\n",
       "0    Verdiere  Jeffrey\n",
       "1       laine   romain\n",
       "2      tixier   maxime\n",
       "3  Chevallier    jules\n",
       "4   chatillon    louis"
      ]
     },
     "execution_count": 89,
     "metadata": {},
     "output_type": "execute_result"
    }
   ],
   "source": [
    "q = \"\"\"SELECT Nom, Prenom\n",
    "    FROM table_eleve\n",
    "       \"\"\"\n",
    "\n",
    "names = pysqldf(q)\n",
    "names"
   ]
  },
  {
   "cell_type": "markdown",
   "id": "161dd6da",
   "metadata": {},
   "source": [
    "Afficher les villes dans lesquelles habitent les élèves"
   ]
  },
  {
   "cell_type": "code",
   "execution_count": 90,
   "id": "83d664fc",
   "metadata": {},
   "outputs": [
    {
     "data": {
      "text/html": [
       "<div>\n",
       "<style scoped>\n",
       "    .dataframe tbody tr th:only-of-type {\n",
       "        vertical-align: middle;\n",
       "    }\n",
       "\n",
       "    .dataframe tbody tr th {\n",
       "        vertical-align: top;\n",
       "    }\n",
       "\n",
       "    .dataframe thead th {\n",
       "        text-align: right;\n",
       "    }\n",
       "</style>\n",
       "<table border=\"1\" class=\"dataframe\">\n",
       "  <thead>\n",
       "    <tr style=\"text-align: right;\">\n",
       "      <th></th>\n",
       "      <th>Ville</th>\n",
       "    </tr>\n",
       "  </thead>\n",
       "  <tbody>\n",
       "    <tr>\n",
       "      <th>0</th>\n",
       "      <td>Levallois</td>\n",
       "    </tr>\n",
       "    <tr>\n",
       "      <th>1</th>\n",
       "      <td>Neuilly</td>\n",
       "    </tr>\n",
       "    <tr>\n",
       "      <th>2</th>\n",
       "      <td>Plessy</td>\n",
       "    </tr>\n",
       "    <tr>\n",
       "      <th>3</th>\n",
       "      <td>Cannes</td>\n",
       "    </tr>\n",
       "    <tr>\n",
       "      <th>4</th>\n",
       "      <td>Nice</td>\n",
       "    </tr>\n",
       "  </tbody>\n",
       "</table>\n",
       "</div>"
      ],
      "text/plain": [
       "       Ville\n",
       "0  Levallois\n",
       "1    Neuilly\n",
       "2     Plessy\n",
       "3     Cannes\n",
       "4       Nice"
      ]
     },
     "execution_count": 90,
     "metadata": {},
     "output_type": "execute_result"
    }
   ],
   "source": [
    "q = \"\"\"SELECT DISTINCT Ville\n",
    "    FROM table_eleve\n",
    "       \"\"\"\n",
    "\n",
    "names = pysqldf(q)\n",
    "names"
   ]
  },
  {
   "cell_type": "markdown",
   "id": "ad20abf8",
   "metadata": {},
   "source": [
    "La commande DISTINCT permet de supprimer les doublons"
   ]
  },
  {
   "cell_type": "markdown",
   "id": "bf76b04c",
   "metadata": {},
   "source": [
    "**La selection**"
   ]
  },
  {
   "cell_type": "markdown",
   "id": "cae188d5",
   "metadata": {},
   "source": [
    "Afficher le nom et les prénoms des élèves qui habitent à Nice."
   ]
  },
  {
   "cell_type": "code",
   "execution_count": 92,
   "id": "24ac55d5",
   "metadata": {},
   "outputs": [
    {
     "data": {
      "text/html": [
       "<div>\n",
       "<style scoped>\n",
       "    .dataframe tbody tr th:only-of-type {\n",
       "        vertical-align: middle;\n",
       "    }\n",
       "\n",
       "    .dataframe tbody tr th {\n",
       "        vertical-align: top;\n",
       "    }\n",
       "\n",
       "    .dataframe thead th {\n",
       "        text-align: right;\n",
       "    }\n",
       "</style>\n",
       "<table border=\"1\" class=\"dataframe\">\n",
       "  <thead>\n",
       "    <tr style=\"text-align: right;\">\n",
       "      <th></th>\n",
       "      <th>Nom</th>\n",
       "      <th>Prenom</th>\n",
       "    </tr>\n",
       "  </thead>\n",
       "  <tbody>\n",
       "    <tr>\n",
       "      <th>0</th>\n",
       "      <td>chatillon</td>\n",
       "      <td>louis</td>\n",
       "    </tr>\n",
       "  </tbody>\n",
       "</table>\n",
       "</div>"
      ],
      "text/plain": [
       "         Nom Prenom\n",
       "0  chatillon  louis"
      ]
     },
     "execution_count": 92,
     "metadata": {},
     "output_type": "execute_result"
    }
   ],
   "source": [
    "q = \"\"\"SELECT  Nom, Prenom\n",
    "    FROM table_eleve\n",
    "    WHERE Ville='Nice'\n",
    "       \"\"\"\n",
    "\n",
    "names = pysqldf(q)\n",
    "names"
   ]
  },
  {
   "cell_type": "markdown",
   "id": "a64bf0e7",
   "metadata": {},
   "source": [
    "Afficher le nom et les numéros de téléphone des élèves qui habitent à Nice ou à Cannes."
   ]
  },
  {
   "cell_type": "code",
   "execution_count": 96,
   "id": "1af38a2d",
   "metadata": {},
   "outputs": [
    {
     "data": {
      "text/html": [
       "<div>\n",
       "<style scoped>\n",
       "    .dataframe tbody tr th:only-of-type {\n",
       "        vertical-align: middle;\n",
       "    }\n",
       "\n",
       "    .dataframe tbody tr th {\n",
       "        vertical-align: top;\n",
       "    }\n",
       "\n",
       "    .dataframe thead th {\n",
       "        text-align: right;\n",
       "    }\n",
       "</style>\n",
       "<table border=\"1\" class=\"dataframe\">\n",
       "  <thead>\n",
       "    <tr style=\"text-align: right;\">\n",
       "      <th></th>\n",
       "      <th>Nom</th>\n",
       "      <th>Tel</th>\n",
       "    </tr>\n",
       "  </thead>\n",
       "  <tbody>\n",
       "    <tr>\n",
       "      <th>0</th>\n",
       "      <td>Chevallier</td>\n",
       "      <td>06-02</td>\n",
       "    </tr>\n",
       "    <tr>\n",
       "      <th>1</th>\n",
       "      <td>chatillon</td>\n",
       "      <td>06-02</td>\n",
       "    </tr>\n",
       "  </tbody>\n",
       "</table>\n",
       "</div>"
      ],
      "text/plain": [
       "          Nom    Tel\n",
       "0  Chevallier  06-02\n",
       "1   chatillon  06-02"
      ]
     },
     "execution_count": 96,
     "metadata": {},
     "output_type": "execute_result"
    }
   ],
   "source": [
    "q = \"\"\"SELECT  Nom, Tel\n",
    "    FROM table_eleve\n",
    "    WHERE Ville LIKE'Nice' or Ville LIKE'Cannes'\n",
    "       \"\"\"\n",
    "\n",
    "names = pysqldf(q)\n",
    "names"
   ]
  },
  {
   "cell_type": "markdown",
   "id": "b1d3d417",
   "metadata": {},
   "source": [
    "On aurait pu utiliser les = à la place des LIKE, on aurait exactement le même résultat."
   ]
  },
  {
   "cell_type": "markdown",
   "id": "b1d0bebb",
   "metadata": {},
   "source": [
    "Afficher le nom et le prénom des élèves dont le numéro de téléphone commence par 06 et dont la première lettre du nom est comprise entre A et M."
   ]
  },
  {
   "cell_type": "code",
   "execution_count": 98,
   "id": "d1486d96",
   "metadata": {},
   "outputs": [
    {
     "data": {
      "text/html": [
       "<div>\n",
       "<style scoped>\n",
       "    .dataframe tbody tr th:only-of-type {\n",
       "        vertical-align: middle;\n",
       "    }\n",
       "\n",
       "    .dataframe tbody tr th {\n",
       "        vertical-align: top;\n",
       "    }\n",
       "\n",
       "    .dataframe thead th {\n",
       "        text-align: right;\n",
       "    }\n",
       "</style>\n",
       "<table border=\"1\" class=\"dataframe\">\n",
       "  <thead>\n",
       "    <tr style=\"text-align: right;\">\n",
       "      <th></th>\n",
       "      <th>Nom</th>\n",
       "      <th>Prenom</th>\n",
       "    </tr>\n",
       "  </thead>\n",
       "  <tbody>\n",
       "    <tr>\n",
       "      <th>0</th>\n",
       "      <td>Chevallier</td>\n",
       "      <td>jules</td>\n",
       "    </tr>\n",
       "  </tbody>\n",
       "</table>\n",
       "</div>"
      ],
      "text/plain": [
       "          Nom Prenom\n",
       "0  Chevallier  jules"
      ]
     },
     "execution_count": 98,
     "metadata": {},
     "output_type": "execute_result"
    }
   ],
   "source": [
    "q = \"\"\"SELECT  Nom, Prenom\n",
    "    FROM table_eleve\n",
    "    WHERE Tel LIKE '06%' AND Nom BETWEEN 'A' AND 'M'\n",
    "       \"\"\"\n",
    "\n",
    "names = pysqldf(q)\n",
    "names"
   ]
  },
  {
   "cell_type": "markdown",
   "id": "46c60409",
   "metadata": {},
   "source": [
    "**La jointure**"
   ]
  },
  {
   "cell_type": "markdown",
   "id": "b67bfa19",
   "metadata": {},
   "source": [
    "On fait la jointure entre les deux tables."
   ]
  },
  {
   "cell_type": "code",
   "execution_count": 100,
   "id": "7484154e",
   "metadata": {},
   "outputs": [
    {
     "data": {
      "text/html": [
       "<div>\n",
       "<style scoped>\n",
       "    .dataframe tbody tr th:only-of-type {\n",
       "        vertical-align: middle;\n",
       "    }\n",
       "\n",
       "    .dataframe tbody tr th {\n",
       "        vertical-align: top;\n",
       "    }\n",
       "\n",
       "    .dataframe thead th {\n",
       "        text-align: right;\n",
       "    }\n",
       "</style>\n",
       "<table border=\"1\" class=\"dataframe\">\n",
       "  <thead>\n",
       "    <tr style=\"text-align: right;\">\n",
       "      <th></th>\n",
       "      <th>Id</th>\n",
       "      <th>Nom</th>\n",
       "      <th>Prenom</th>\n",
       "      <th>Adresse</th>\n",
       "      <th>CP</th>\n",
       "      <th>Ville</th>\n",
       "      <th>Tel</th>\n",
       "      <th>Num_prof</th>\n",
       "    </tr>\n",
       "  </thead>\n",
       "  <tbody>\n",
       "    <tr>\n",
       "      <th>0</th>\n",
       "      <td>40</td>\n",
       "      <td>Verdiere</td>\n",
       "      <td>Jeffrey</td>\n",
       "      <td>27 aven roche</td>\n",
       "      <td>92300</td>\n",
       "      <td>Levallois</td>\n",
       "      <td>06-02</td>\n",
       "      <td>1</td>\n",
       "    </tr>\n",
       "    <tr>\n",
       "      <th>1</th>\n",
       "      <td>41</td>\n",
       "      <td>laine</td>\n",
       "      <td>romain</td>\n",
       "      <td>122 rue Neu</td>\n",
       "      <td>7500</td>\n",
       "      <td>Neuilly</td>\n",
       "      <td>06-02</td>\n",
       "      <td>2</td>\n",
       "    </tr>\n",
       "    <tr>\n",
       "      <th>2</th>\n",
       "      <td>42</td>\n",
       "      <td>tixier</td>\n",
       "      <td>maxime</td>\n",
       "      <td>130 rue sal</td>\n",
       "      <td>92200</td>\n",
       "      <td>Plessy</td>\n",
       "      <td>06-02</td>\n",
       "      <td>3</td>\n",
       "    </tr>\n",
       "    <tr>\n",
       "      <th>3</th>\n",
       "      <td>43</td>\n",
       "      <td>Chevallier</td>\n",
       "      <td>jules</td>\n",
       "      <td>29 rue dia</td>\n",
       "      <td>93300</td>\n",
       "      <td>Cannes</td>\n",
       "      <td>06-02</td>\n",
       "      <td>4</td>\n",
       "    </tr>\n",
       "    <tr>\n",
       "      <th>4</th>\n",
       "      <td>44</td>\n",
       "      <td>chatillon</td>\n",
       "      <td>louis</td>\n",
       "      <td>34 ave ou</td>\n",
       "      <td>91200</td>\n",
       "      <td>Nice</td>\n",
       "      <td>06-02</td>\n",
       "      <td>5</td>\n",
       "    </tr>\n",
       "  </tbody>\n",
       "</table>\n",
       "</div>"
      ],
      "text/plain": [
       "   Id         Nom   Prenom        Adresse     CP      Ville    Tel  Num_prof\n",
       "0  40    Verdiere  Jeffrey  27 aven roche  92300  Levallois  06-02         1\n",
       "1  41       laine   romain    122 rue Neu   7500    Neuilly  06-02         2\n",
       "2  42      tixier   maxime    130 rue sal  92200     Plessy  06-02         3\n",
       "3  43  Chevallier    jules     29 rue dia  93300     Cannes  06-02         4\n",
       "4  44   chatillon    louis      34 ave ou  91200       Nice  06-02         5"
      ]
     },
     "execution_count": 100,
     "metadata": {},
     "output_type": "execute_result"
    }
   ],
   "source": [
    "table_eleve"
   ]
  },
  {
   "cell_type": "markdown",
   "id": "faa18691",
   "metadata": {},
   "source": [
    "Afficher le nom des élèves et la salle où aura lieu le cours avec Monsieur Rohart."
   ]
  },
  {
   "cell_type": "code",
   "execution_count": 107,
   "id": "81a4f674",
   "metadata": {},
   "outputs": [
    {
     "data": {
      "text/html": [
       "<div>\n",
       "<style scoped>\n",
       "    .dataframe tbody tr th:only-of-type {\n",
       "        vertical-align: middle;\n",
       "    }\n",
       "\n",
       "    .dataframe tbody tr th {\n",
       "        vertical-align: top;\n",
       "    }\n",
       "\n",
       "    .dataframe thead th {\n",
       "        text-align: right;\n",
       "    }\n",
       "</style>\n",
       "<table border=\"1\" class=\"dataframe\">\n",
       "  <thead>\n",
       "    <tr style=\"text-align: right;\">\n",
       "      <th></th>\n",
       "      <th>Salle</th>\n",
       "    </tr>\n",
       "  </thead>\n",
       "  <tbody>\n",
       "    <tr>\n",
       "      <th>0</th>\n",
       "      <td>28</td>\n",
       "    </tr>\n",
       "    <tr>\n",
       "      <th>1</th>\n",
       "      <td>29</td>\n",
       "    </tr>\n",
       "    <tr>\n",
       "      <th>2</th>\n",
       "      <td>30</td>\n",
       "    </tr>\n",
       "    <tr>\n",
       "      <th>3</th>\n",
       "      <td>31</td>\n",
       "    </tr>\n",
       "    <tr>\n",
       "      <th>4</th>\n",
       "      <td>40</td>\n",
       "    </tr>\n",
       "  </tbody>\n",
       "</table>\n",
       "</div>"
      ],
      "text/plain": [
       "   Salle\n",
       "0     28\n",
       "1     29\n",
       "2     30\n",
       "3     31\n",
       "4     40"
      ]
     },
     "execution_count": 107,
     "metadata": {},
     "output_type": "execute_result"
    }
   ],
   "source": [
    "q = \"\"\" SELECT table_prof.Salle\n",
    "FROM table_prof\n",
    "\"\"\"\n",
    "\n",
    "names = pysqldf(q)\n",
    "names"
   ]
  },
  {
   "cell_type": "code",
   "execution_count": 139,
   "id": "7df408a8",
   "metadata": {},
   "outputs": [
    {
     "data": {
      "text/html": [
       "<div>\n",
       "<style scoped>\n",
       "    .dataframe tbody tr th:only-of-type {\n",
       "        vertical-align: middle;\n",
       "    }\n",
       "\n",
       "    .dataframe tbody tr th {\n",
       "        vertical-align: top;\n",
       "    }\n",
       "\n",
       "    .dataframe thead th {\n",
       "        text-align: right;\n",
       "    }\n",
       "</style>\n",
       "<table border=\"1\" class=\"dataframe\">\n",
       "  <thead>\n",
       "    <tr style=\"text-align: right;\">\n",
       "      <th></th>\n",
       "      <th>Nom</th>\n",
       "      <th>Salle</th>\n",
       "    </tr>\n",
       "  </thead>\n",
       "  <tbody>\n",
       "    <tr>\n",
       "      <th>0</th>\n",
       "      <td>Chevallier</td>\n",
       "      <td>31</td>\n",
       "    </tr>\n",
       "  </tbody>\n",
       "</table>\n",
       "</div>"
      ],
      "text/plain": [
       "          Nom  Salle\n",
       "0  Chevallier     31"
      ]
     },
     "execution_count": 139,
     "metadata": {},
     "output_type": "execute_result"
    }
   ],
   "source": [
    "q = \"\"\"SELECT table_eleve.Nom, table_prof.Salle FROM \n",
    "table_eleve JOIN table_prof ON table_eleve.Num_prof=table_prof.id WHERE table_prof.Nom = \"Rohart\"\n",
    "\"\"\"\n",
    "\n",
    "\n",
    "names = pysqldf(q)\n",
    "names"
   ]
  },
  {
   "cell_type": "markdown",
   "id": "5c649dd0",
   "metadata": {},
   "source": [
    "**Le champ calculé**"
   ]
  },
  {
   "cell_type": "markdown",
   "id": "7853da2b",
   "metadata": {},
   "source": [
    "Création de la table note."
   ]
  },
  {
   "cell_type": "code",
   "execution_count": 109,
   "id": "01e556f9",
   "metadata": {},
   "outputs": [
    {
     "data": {
      "text/html": [
       "<div>\n",
       "<style scoped>\n",
       "    .dataframe tbody tr th:only-of-type {\n",
       "        vertical-align: middle;\n",
       "    }\n",
       "\n",
       "    .dataframe tbody tr th {\n",
       "        vertical-align: top;\n",
       "    }\n",
       "\n",
       "    .dataframe thead th {\n",
       "        text-align: right;\n",
       "    }\n",
       "</style>\n",
       "<table border=\"1\" class=\"dataframe\">\n",
       "  <thead>\n",
       "    <tr style=\"text-align: right;\">\n",
       "      <th></th>\n",
       "      <th>Id</th>\n",
       "      <th>Maths</th>\n",
       "      <th>Physique</th>\n",
       "      <th>SI</th>\n",
       "    </tr>\n",
       "  </thead>\n",
       "  <tbody>\n",
       "    <tr>\n",
       "      <th>0</th>\n",
       "      <td>1</td>\n",
       "      <td>17</td>\n",
       "      <td>8</td>\n",
       "      <td>10</td>\n",
       "    </tr>\n",
       "    <tr>\n",
       "      <th>1</th>\n",
       "      <td>2</td>\n",
       "      <td>18</td>\n",
       "      <td>9</td>\n",
       "      <td>8</td>\n",
       "    </tr>\n",
       "    <tr>\n",
       "      <th>2</th>\n",
       "      <td>3</td>\n",
       "      <td>19</td>\n",
       "      <td>11</td>\n",
       "      <td>14</td>\n",
       "    </tr>\n",
       "    <tr>\n",
       "      <th>3</th>\n",
       "      <td>4</td>\n",
       "      <td>20</td>\n",
       "      <td>12</td>\n",
       "      <td>11</td>\n",
       "    </tr>\n",
       "    <tr>\n",
       "      <th>4</th>\n",
       "      <td>5</td>\n",
       "      <td>5</td>\n",
       "      <td>5</td>\n",
       "      <td>7</td>\n",
       "    </tr>\n",
       "    <tr>\n",
       "      <th>5</th>\n",
       "      <td>6</td>\n",
       "      <td>4</td>\n",
       "      <td>6</td>\n",
       "      <td>11</td>\n",
       "    </tr>\n",
       "  </tbody>\n",
       "</table>\n",
       "</div>"
      ],
      "text/plain": [
       "   Id  Maths  Physique  SI\n",
       "0   1     17         8  10\n",
       "1   2     18         9   8\n",
       "2   3     19        11  14\n",
       "3   4     20        12  11\n",
       "4   5      5         5   7\n",
       "5   6      4         6  11"
      ]
     },
     "execution_count": 109,
     "metadata": {},
     "output_type": "execute_result"
    }
   ],
   "source": [
    "Id = [1,2,3,4,5,6]\n",
    "Maths = [17,18,19,20,5,4]\n",
    "Physique = [8,9,11,12,5,6]\n",
    "SI = [10,8,14,11,7,11]\n",
    "\n",
    "table_note = pd.DataFrame(list(zip(Id,Maths,Physique,SI)),\n",
    "                         columns =['Id', 'Maths','Physique','SI'])\n",
    "table_note"
   ]
  },
  {
   "cell_type": "markdown",
   "id": "22bc2fa8",
   "metadata": {},
   "source": [
    "Afficher l'identifiant des copies avec la note de maths coefficienté par 5."
   ]
  },
  {
   "cell_type": "code",
   "execution_count": 111,
   "id": "6df67a85",
   "metadata": {},
   "outputs": [
    {
     "data": {
      "text/html": [
       "<div>\n",
       "<style scoped>\n",
       "    .dataframe tbody tr th:only-of-type {\n",
       "        vertical-align: middle;\n",
       "    }\n",
       "\n",
       "    .dataframe tbody tr th {\n",
       "        vertical-align: top;\n",
       "    }\n",
       "\n",
       "    .dataframe thead th {\n",
       "        text-align: right;\n",
       "    }\n",
       "</style>\n",
       "<table border=\"1\" class=\"dataframe\">\n",
       "  <thead>\n",
       "    <tr style=\"text-align: right;\">\n",
       "      <th></th>\n",
       "      <th>Id</th>\n",
       "      <th>Points_Maths</th>\n",
       "    </tr>\n",
       "  </thead>\n",
       "  <tbody>\n",
       "    <tr>\n",
       "      <th>0</th>\n",
       "      <td>1</td>\n",
       "      <td>85</td>\n",
       "    </tr>\n",
       "    <tr>\n",
       "      <th>1</th>\n",
       "      <td>2</td>\n",
       "      <td>90</td>\n",
       "    </tr>\n",
       "    <tr>\n",
       "      <th>2</th>\n",
       "      <td>3</td>\n",
       "      <td>95</td>\n",
       "    </tr>\n",
       "    <tr>\n",
       "      <th>3</th>\n",
       "      <td>4</td>\n",
       "      <td>100</td>\n",
       "    </tr>\n",
       "    <tr>\n",
       "      <th>4</th>\n",
       "      <td>5</td>\n",
       "      <td>25</td>\n",
       "    </tr>\n",
       "    <tr>\n",
       "      <th>5</th>\n",
       "      <td>6</td>\n",
       "      <td>20</td>\n",
       "    </tr>\n",
       "  </tbody>\n",
       "</table>\n",
       "</div>"
      ],
      "text/plain": [
       "   Id  Points_Maths\n",
       "0   1            85\n",
       "1   2            90\n",
       "2   3            95\n",
       "3   4           100\n",
       "4   5            25\n",
       "5   6            20"
      ]
     },
     "execution_count": 111,
     "metadata": {},
     "output_type": "execute_result"
    }
   ],
   "source": [
    "q = \"\"\"SELECT table_note.Id, table_note.Maths*5 AS Points_Maths\n",
    "    FROM table_note\n",
    "\"\"\"\n",
    "\n",
    "\n",
    "names = pysqldf(q)\n",
    "names"
   ]
  },
  {
   "cell_type": "markdown",
   "id": "5bb910fd",
   "metadata": {},
   "source": [
    "Compter le nombre de copies dont la note de physique est supérieure à 8."
   ]
  },
  {
   "cell_type": "code",
   "execution_count": 112,
   "id": "ee5bd697",
   "metadata": {},
   "outputs": [
    {
     "data": {
      "text/html": [
       "<div>\n",
       "<style scoped>\n",
       "    .dataframe tbody tr th:only-of-type {\n",
       "        vertical-align: middle;\n",
       "    }\n",
       "\n",
       "    .dataframe tbody tr th {\n",
       "        vertical-align: top;\n",
       "    }\n",
       "\n",
       "    .dataframe thead th {\n",
       "        text-align: right;\n",
       "    }\n",
       "</style>\n",
       "<table border=\"1\" class=\"dataframe\">\n",
       "  <thead>\n",
       "    <tr style=\"text-align: right;\">\n",
       "      <th></th>\n",
       "      <th>Nombre_copies</th>\n",
       "    </tr>\n",
       "  </thead>\n",
       "  <tbody>\n",
       "    <tr>\n",
       "      <th>0</th>\n",
       "      <td>3</td>\n",
       "    </tr>\n",
       "  </tbody>\n",
       "</table>\n",
       "</div>"
      ],
      "text/plain": [
       "   Nombre_copies\n",
       "0              3"
      ]
     },
     "execution_count": 112,
     "metadata": {},
     "output_type": "execute_result"
    }
   ],
   "source": [
    "q = \"\"\"SELECT COUNT(table_note.ID) AS Nombre_copies \n",
    "    FROM table_note WHERE table_note.Physique >8\n",
    "\"\"\"\n",
    "\n",
    "\n",
    "names = pysqldf(q)\n",
    "names"
   ]
  },
  {
   "cell_type": "markdown",
   "id": "1fcd40ef",
   "metadata": {},
   "source": [
    "Additionner les valeurs d'un champs numériques"
   ]
  },
  {
   "cell_type": "code",
   "execution_count": 113,
   "id": "ada266d3",
   "metadata": {},
   "outputs": [
    {
     "data": {
      "text/html": [
       "<div>\n",
       "<style scoped>\n",
       "    .dataframe tbody tr th:only-of-type {\n",
       "        vertical-align: middle;\n",
       "    }\n",
       "\n",
       "    .dataframe tbody tr th {\n",
       "        vertical-align: top;\n",
       "    }\n",
       "\n",
       "    .dataframe thead th {\n",
       "        text-align: right;\n",
       "    }\n",
       "</style>\n",
       "<table border=\"1\" class=\"dataframe\">\n",
       "  <thead>\n",
       "    <tr style=\"text-align: right;\">\n",
       "      <th></th>\n",
       "      <th>Somme_note_maths</th>\n",
       "    </tr>\n",
       "  </thead>\n",
       "  <tbody>\n",
       "    <tr>\n",
       "      <th>0</th>\n",
       "      <td>83</td>\n",
       "    </tr>\n",
       "  </tbody>\n",
       "</table>\n",
       "</div>"
      ],
      "text/plain": [
       "   Somme_note_maths\n",
       "0                83"
      ]
     },
     "execution_count": 113,
     "metadata": {},
     "output_type": "execute_result"
    }
   ],
   "source": [
    "q = \"\"\"SELECT SUM(table_note.Maths) AS Somme_note_maths \n",
    "    FROM table_note\n",
    "\"\"\"\n",
    "\n",
    "\n",
    "names = pysqldf(q)\n",
    "names"
   ]
  },
  {
   "cell_type": "markdown",
   "id": "ea72e7f3",
   "metadata": {},
   "source": [
    "Calculer la moyenne des notes de maths"
   ]
  },
  {
   "cell_type": "code",
   "execution_count": 115,
   "id": "942a6d1d",
   "metadata": {},
   "outputs": [
    {
     "data": {
      "text/html": [
       "<div>\n",
       "<style scoped>\n",
       "    .dataframe tbody tr th:only-of-type {\n",
       "        vertical-align: middle;\n",
       "    }\n",
       "\n",
       "    .dataframe tbody tr th {\n",
       "        vertical-align: top;\n",
       "    }\n",
       "\n",
       "    .dataframe thead th {\n",
       "        text-align: right;\n",
       "    }\n",
       "</style>\n",
       "<table border=\"1\" class=\"dataframe\">\n",
       "  <thead>\n",
       "    <tr style=\"text-align: right;\">\n",
       "      <th></th>\n",
       "      <th>moyenne_note_maths</th>\n",
       "    </tr>\n",
       "  </thead>\n",
       "  <tbody>\n",
       "    <tr>\n",
       "      <th>0</th>\n",
       "      <td>13.833333</td>\n",
       "    </tr>\n",
       "  </tbody>\n",
       "</table>\n",
       "</div>"
      ],
      "text/plain": [
       "   moyenne_note_maths\n",
       "0           13.833333"
      ]
     },
     "execution_count": 115,
     "metadata": {},
     "output_type": "execute_result"
    }
   ],
   "source": [
    "q = \"\"\"SELECT AVG(table_note.Maths) AS moyenne_note_maths \n",
    "    FROM table_note\n",
    "\"\"\"\n",
    "\n",
    "\n",
    "names = pysqldf(q)\n",
    "names"
   ]
  },
  {
   "cell_type": "markdown",
   "id": "aafd7774",
   "metadata": {},
   "source": [
    "Calcul des notes maximales et minimales en maths"
   ]
  },
  {
   "cell_type": "code",
   "execution_count": 116,
   "id": "ff6121e5",
   "metadata": {},
   "outputs": [
    {
     "name": "stdout",
     "output_type": "stream",
     "text": [
      "   minimum_note_maths\n",
      "0                   4\n",
      "   maximum_note_maths\n",
      "0                  20\n"
     ]
    }
   ],
   "source": [
    "q1 = \"\"\"SELECT MIN(table_note.Maths) AS minimum_note_maths \n",
    "    FROM table_note\n",
    "\"\"\"\n",
    "\n",
    "q2 = \"\"\"SELECT MAX(table_note.Maths) AS maximum_note_maths \n",
    "    FROM table_note\n",
    "\"\"\"\n",
    "\n",
    "name1 = pysqldf(q1)\n",
    "name2 = pysqldf(q2)\n",
    "print(name1)\n",
    "print(name2)"
   ]
  },
  {
   "cell_type": "markdown",
   "id": "82433538",
   "metadata": {},
   "source": [
    "**La clause groupby**"
   ]
  },
  {
   "cell_type": "markdown",
   "id": "ce62d316",
   "metadata": {},
   "source": [
    "Creation de la table note"
   ]
  },
  {
   "cell_type": "code",
   "execution_count": 120,
   "id": "176e1f76",
   "metadata": {},
   "outputs": [
    {
     "data": {
      "text/html": [
       "<div>\n",
       "<style scoped>\n",
       "    .dataframe tbody tr th:only-of-type {\n",
       "        vertical-align: middle;\n",
       "    }\n",
       "\n",
       "    .dataframe tbody tr th {\n",
       "        vertical-align: top;\n",
       "    }\n",
       "\n",
       "    .dataframe thead th {\n",
       "        text-align: right;\n",
       "    }\n",
       "</style>\n",
       "<table border=\"1\" class=\"dataframe\">\n",
       "  <thead>\n",
       "    <tr style=\"text-align: right;\">\n",
       "      <th></th>\n",
       "      <th>Id</th>\n",
       "      <th>Maths</th>\n",
       "      <th>Physique</th>\n",
       "      <th>SI</th>\n",
       "      <th>Classe</th>\n",
       "    </tr>\n",
       "  </thead>\n",
       "  <tbody>\n",
       "    <tr>\n",
       "      <th>0</th>\n",
       "      <td>1</td>\n",
       "      <td>17</td>\n",
       "      <td>8</td>\n",
       "      <td>10</td>\n",
       "      <td>PC</td>\n",
       "    </tr>\n",
       "    <tr>\n",
       "      <th>1</th>\n",
       "      <td>2</td>\n",
       "      <td>18</td>\n",
       "      <td>9</td>\n",
       "      <td>8</td>\n",
       "      <td>PT</td>\n",
       "    </tr>\n",
       "    <tr>\n",
       "      <th>2</th>\n",
       "      <td>3</td>\n",
       "      <td>19</td>\n",
       "      <td>11</td>\n",
       "      <td>14</td>\n",
       "      <td>PT</td>\n",
       "    </tr>\n",
       "    <tr>\n",
       "      <th>3</th>\n",
       "      <td>4</td>\n",
       "      <td>20</td>\n",
       "      <td>12</td>\n",
       "      <td>11</td>\n",
       "      <td>PC</td>\n",
       "    </tr>\n",
       "    <tr>\n",
       "      <th>4</th>\n",
       "      <td>5</td>\n",
       "      <td>5</td>\n",
       "      <td>5</td>\n",
       "      <td>7</td>\n",
       "      <td>PT</td>\n",
       "    </tr>\n",
       "    <tr>\n",
       "      <th>5</th>\n",
       "      <td>6</td>\n",
       "      <td>4</td>\n",
       "      <td>6</td>\n",
       "      <td>11</td>\n",
       "      <td>PC</td>\n",
       "    </tr>\n",
       "  </tbody>\n",
       "</table>\n",
       "</div>"
      ],
      "text/plain": [
       "   Id  Maths  Physique  SI Classe\n",
       "0   1     17         8  10     PC\n",
       "1   2     18         9   8     PT\n",
       "2   3     19        11  14     PT\n",
       "3   4     20        12  11     PC\n",
       "4   5      5         5   7     PT\n",
       "5   6      4         6  11     PC"
      ]
     },
     "execution_count": 120,
     "metadata": {},
     "output_type": "execute_result"
    }
   ],
   "source": [
    "Id = [1,2,3,4,5,6]\n",
    "Maths = [17,18,19,20,5,4]\n",
    "Physique = [8,9,11,12,5,6]\n",
    "SI = [10,8,14,11,7,11]\n",
    "Classe = ['PC','PT','PT','PC','PT','PC']\n",
    "\n",
    "table_note = pd.DataFrame(list(zip(Id,Maths,Physique,SI,Classe)),\n",
    "                         columns =['Id', 'Maths','Physique','SI','Classe'])\n",
    "table_note"
   ]
  },
  {
   "cell_type": "markdown",
   "id": "81f9ba27",
   "metadata": {},
   "source": [
    "Requette affichant la classe avec la note maximal de maths dans chaque classe."
   ]
  },
  {
   "cell_type": "code",
   "execution_count": 121,
   "id": "4c4d6750",
   "metadata": {},
   "outputs": [
    {
     "data": {
      "text/html": [
       "<div>\n",
       "<style scoped>\n",
       "    .dataframe tbody tr th:only-of-type {\n",
       "        vertical-align: middle;\n",
       "    }\n",
       "\n",
       "    .dataframe tbody tr th {\n",
       "        vertical-align: top;\n",
       "    }\n",
       "\n",
       "    .dataframe thead th {\n",
       "        text-align: right;\n",
       "    }\n",
       "</style>\n",
       "<table border=\"1\" class=\"dataframe\">\n",
       "  <thead>\n",
       "    <tr style=\"text-align: right;\">\n",
       "      <th></th>\n",
       "      <th>Classe</th>\n",
       "      <th>MAX(Maths)</th>\n",
       "    </tr>\n",
       "  </thead>\n",
       "  <tbody>\n",
       "    <tr>\n",
       "      <th>0</th>\n",
       "      <td>PC</td>\n",
       "      <td>20</td>\n",
       "    </tr>\n",
       "    <tr>\n",
       "      <th>1</th>\n",
       "      <td>PT</td>\n",
       "      <td>19</td>\n",
       "    </tr>\n",
       "  </tbody>\n",
       "</table>\n",
       "</div>"
      ],
      "text/plain": [
       "  Classe  MAX(Maths)\n",
       "0     PC          20\n",
       "1     PT          19"
      ]
     },
     "execution_count": 121,
     "metadata": {},
     "output_type": "execute_result"
    }
   ],
   "source": [
    "q = \"\"\"SELECT Classe, MAX(Maths) \n",
    "    FROM table_note\n",
    "    GROUP BY Classe\n",
    "\"\"\"\n",
    "\n",
    "\n",
    "names = pysqldf(q)\n",
    "names"
   ]
  },
  {
   "cell_type": "markdown",
   "id": "35ede5c7",
   "metadata": {},
   "source": [
    "**I) Plan de vol**"
   ]
  },
  {
   "cell_type": "markdown",
   "id": "387621a9",
   "metadata": {},
   "source": [
    "**creation des tables**"
   ]
  },
  {
   "cell_type": "code",
   "execution_count": 46,
   "id": "a89eed9e",
   "metadata": {},
   "outputs": [],
   "source": [
    "id_vol = ['AF1204','AF1205','AF1504','AF1505']\n",
    "depart = ['CDG','FCO','CDG','FCO']\n",
    "arrivee = ['FCO','CDG','FCO','CDG']\n",
    "jour = ['2016-05-02','2016-05-02','2016-05-02','2016-05-02']\n",
    "heure = ['07:35','10:25','10:05','13:00']\n",
    "niveau = [300,300,310,310]"
   ]
  },
  {
   "cell_type": "markdown",
   "id": "d8c1ba86",
   "metadata": {},
   "source": [
    "**Table vol**"
   ]
  },
  {
   "cell_type": "code",
   "execution_count": 47,
   "id": "0c602d6e",
   "metadata": {},
   "outputs": [
    {
     "data": {
      "text/html": [
       "<div>\n",
       "<style scoped>\n",
       "    .dataframe tbody tr th:only-of-type {\n",
       "        vertical-align: middle;\n",
       "    }\n",
       "\n",
       "    .dataframe tbody tr th {\n",
       "        vertical-align: top;\n",
       "    }\n",
       "\n",
       "    .dataframe thead th {\n",
       "        text-align: right;\n",
       "    }\n",
       "</style>\n",
       "<table border=\"1\" class=\"dataframe\">\n",
       "  <thead>\n",
       "    <tr style=\"text-align: right;\">\n",
       "      <th></th>\n",
       "      <th>id_vol</th>\n",
       "      <th>depart</th>\n",
       "      <th>arrivee</th>\n",
       "      <th>jour</th>\n",
       "      <th>heure</th>\n",
       "      <th>niveau</th>\n",
       "    </tr>\n",
       "  </thead>\n",
       "  <tbody>\n",
       "    <tr>\n",
       "      <th>0</th>\n",
       "      <td>AF1204</td>\n",
       "      <td>CDG</td>\n",
       "      <td>FCO</td>\n",
       "      <td>2016-05-02</td>\n",
       "      <td>07:35</td>\n",
       "      <td>300</td>\n",
       "    </tr>\n",
       "    <tr>\n",
       "      <th>1</th>\n",
       "      <td>AF1205</td>\n",
       "      <td>FCO</td>\n",
       "      <td>CDG</td>\n",
       "      <td>2016-05-02</td>\n",
       "      <td>10:25</td>\n",
       "      <td>300</td>\n",
       "    </tr>\n",
       "    <tr>\n",
       "      <th>2</th>\n",
       "      <td>AF1504</td>\n",
       "      <td>CDG</td>\n",
       "      <td>FCO</td>\n",
       "      <td>2016-05-02</td>\n",
       "      <td>10:05</td>\n",
       "      <td>310</td>\n",
       "    </tr>\n",
       "    <tr>\n",
       "      <th>3</th>\n",
       "      <td>AF1505</td>\n",
       "      <td>FCO</td>\n",
       "      <td>CDG</td>\n",
       "      <td>2016-05-02</td>\n",
       "      <td>13:00</td>\n",
       "      <td>310</td>\n",
       "    </tr>\n",
       "  </tbody>\n",
       "</table>\n",
       "</div>"
      ],
      "text/plain": [
       "   id_vol depart arrivee        jour  heure  niveau\n",
       "0  AF1204    CDG     FCO  2016-05-02  07:35     300\n",
       "1  AF1205    FCO     CDG  2016-05-02  10:25     300\n",
       "2  AF1504    CDG     FCO  2016-05-02  10:05     310\n",
       "3  AF1505    FCO     CDG  2016-05-02  13:00     310"
      ]
     },
     "execution_count": 47,
     "metadata": {},
     "output_type": "execute_result"
    }
   ],
   "source": [
    "table_vol = pd.DataFrame(list(zip(id_vol,depart,arrivee,jour,heure,niveau)),\n",
    "                         columns =['id_vol', 'depart','arrivee','jour','heure','niveau'])\n",
    "table_vol"
   ]
  },
  {
   "cell_type": "markdown",
   "id": "0c578a0f",
   "metadata": {},
   "source": [
    "**Table aeroport**"
   ]
  },
  {
   "cell_type": "code",
   "execution_count": 48,
   "id": "7c7fa616",
   "metadata": {},
   "outputs": [
    {
     "data": {
      "text/html": [
       "<div>\n",
       "<style scoped>\n",
       "    .dataframe tbody tr th:only-of-type {\n",
       "        vertical-align: middle;\n",
       "    }\n",
       "\n",
       "    .dataframe tbody tr th {\n",
       "        vertical-align: top;\n",
       "    }\n",
       "\n",
       "    .dataframe thead th {\n",
       "        text-align: right;\n",
       "    }\n",
       "</style>\n",
       "<table border=\"1\" class=\"dataframe\">\n",
       "  <thead>\n",
       "    <tr style=\"text-align: right;\">\n",
       "      <th></th>\n",
       "      <th>id_aero</th>\n",
       "      <th>ville</th>\n",
       "      <th>pays</th>\n",
       "    </tr>\n",
       "  </thead>\n",
       "  <tbody>\n",
       "    <tr>\n",
       "      <th>0</th>\n",
       "      <td>CDG</td>\n",
       "      <td>Paris</td>\n",
       "      <td>France</td>\n",
       "    </tr>\n",
       "    <tr>\n",
       "      <th>1</th>\n",
       "      <td>ORY</td>\n",
       "      <td>Paris</td>\n",
       "      <td>France</td>\n",
       "    </tr>\n",
       "    <tr>\n",
       "      <th>2</th>\n",
       "      <td>MRS</td>\n",
       "      <td>Marseille</td>\n",
       "      <td>France</td>\n",
       "    </tr>\n",
       "    <tr>\n",
       "      <th>3</th>\n",
       "      <td>FCO</td>\n",
       "      <td>Rome</td>\n",
       "      <td>France</td>\n",
       "    </tr>\n",
       "  </tbody>\n",
       "</table>\n",
       "</div>"
      ],
      "text/plain": [
       "  id_aero      ville    pays\n",
       "0     CDG      Paris  France\n",
       "1     ORY      Paris  France\n",
       "2     MRS  Marseille  France\n",
       "3     FCO       Rome  France"
      ]
     },
     "execution_count": 48,
     "metadata": {},
     "output_type": "execute_result"
    }
   ],
   "source": [
    "id_aero = ['CDG','ORY','MRS','FCO']\n",
    "ville = ['Paris','Paris','Marseille','Rome']\n",
    "pays = ['France','France','France','France']\n",
    "\n",
    "table_aeroport = pd.DataFrame(list(zip(id_aero,ville,pays)),\n",
    "               columns =['id_aero','ville','pays'])\n",
    "table_aeroport"
   ]
  },
  {
   "cell_type": "markdown",
   "id": "83949b8e",
   "metadata": {},
   "source": [
    "**Q1:** Ecrire une requette SQL qui fournit le nombre de vols qui doivent décoller dans la journée du 2 mai 2016 avant midi. "
   ]
  },
  {
   "cell_type": "code",
   "execution_count": 49,
   "id": "48c6d89e",
   "metadata": {},
   "outputs": [
    {
     "data": {
      "text/html": [
       "<div>\n",
       "<style scoped>\n",
       "    .dataframe tbody tr th:only-of-type {\n",
       "        vertical-align: middle;\n",
       "    }\n",
       "\n",
       "    .dataframe tbody tr th {\n",
       "        vertical-align: top;\n",
       "    }\n",
       "\n",
       "    .dataframe thead th {\n",
       "        text-align: right;\n",
       "    }\n",
       "</style>\n",
       "<table border=\"1\" class=\"dataframe\">\n",
       "  <thead>\n",
       "    <tr style=\"text-align: right;\">\n",
       "      <th></th>\n",
       "      <th>id_vol</th>\n",
       "      <th>depart</th>\n",
       "      <th>arrivee</th>\n",
       "      <th>jour</th>\n",
       "      <th>heure</th>\n",
       "      <th>niveau</th>\n",
       "    </tr>\n",
       "  </thead>\n",
       "  <tbody>\n",
       "    <tr>\n",
       "      <th>0</th>\n",
       "      <td>AF1204</td>\n",
       "      <td>CDG</td>\n",
       "      <td>FCO</td>\n",
       "      <td>2016-05-02</td>\n",
       "      <td>07:35</td>\n",
       "      <td>300</td>\n",
       "    </tr>\n",
       "    <tr>\n",
       "      <th>1</th>\n",
       "      <td>AF1205</td>\n",
       "      <td>FCO</td>\n",
       "      <td>CDG</td>\n",
       "      <td>2016-05-02</td>\n",
       "      <td>10:25</td>\n",
       "      <td>300</td>\n",
       "    </tr>\n",
       "    <tr>\n",
       "      <th>2</th>\n",
       "      <td>AF1504</td>\n",
       "      <td>CDG</td>\n",
       "      <td>FCO</td>\n",
       "      <td>2016-05-02</td>\n",
       "      <td>10:05</td>\n",
       "      <td>310</td>\n",
       "    </tr>\n",
       "  </tbody>\n",
       "</table>\n",
       "</div>"
      ],
      "text/plain": [
       "   id_vol depart arrivee        jour  heure  niveau\n",
       "0  AF1204    CDG     FCO  2016-05-02  07:35     300\n",
       "1  AF1205    FCO     CDG  2016-05-02  10:25     300\n",
       "2  AF1504    CDG     FCO  2016-05-02  10:05     310"
      ]
     },
     "execution_count": 49,
     "metadata": {},
     "output_type": "execute_result"
    }
   ],
   "source": [
    "table_vol[(table_vol['jour']=='2016-05-02') & (table_vol['heure']<'12:00')]"
   ]
  },
  {
   "cell_type": "code",
   "execution_count": 50,
   "id": "2e045f53",
   "metadata": {},
   "outputs": [
    {
     "data": {
      "text/plain": [
       "3"
      ]
     },
     "execution_count": 50,
     "metadata": {},
     "output_type": "execute_result"
    }
   ],
   "source": [
    "len(table_vol[(table_vol['jour']=='2016-05-02') & (table_vol['heure']<'12:00')])"
   ]
  },
  {
   "cell_type": "markdown",
   "id": "abcdf8ab",
   "metadata": {},
   "source": [
    "En **SQL**"
   ]
  },
  {
   "cell_type": "code",
   "execution_count": 68,
   "id": "5382c726",
   "metadata": {},
   "outputs": [
    {
     "data": {
      "text/html": [
       "<div>\n",
       "<style scoped>\n",
       "    .dataframe tbody tr th:only-of-type {\n",
       "        vertical-align: middle;\n",
       "    }\n",
       "\n",
       "    .dataframe tbody tr th {\n",
       "        vertical-align: top;\n",
       "    }\n",
       "\n",
       "    .dataframe thead th {\n",
       "        text-align: right;\n",
       "    }\n",
       "</style>\n",
       "<table border=\"1\" class=\"dataframe\">\n",
       "  <thead>\n",
       "    <tr style=\"text-align: right;\">\n",
       "      <th></th>\n",
       "      <th>COUNT(id_vol)</th>\n",
       "    </tr>\n",
       "  </thead>\n",
       "  <tbody>\n",
       "    <tr>\n",
       "      <th>0</th>\n",
       "      <td>3</td>\n",
       "    </tr>\n",
       "  </tbody>\n",
       "</table>\n",
       "</div>"
      ],
      "text/plain": [
       "   COUNT(id_vol)\n",
       "0              3"
      ]
     },
     "execution_count": 68,
     "metadata": {},
     "output_type": "execute_result"
    }
   ],
   "source": [
    "q = \"\"\"SELECT COUNT(id_vol) FROM table_vol WHERE jour = \"2016-05-02\" AND heure<\"12:00\" \n",
    "       \"\"\"\n",
    "\n",
    "names = pysqldf(q)\n",
    "names"
   ]
  },
  {
   "cell_type": "markdown",
   "id": "25ae181d",
   "metadata": {},
   "source": [
    "**Q2**: Ecrire une requête SQL qui fournit la liste des numéros de vols au départ d'un aéroport desservant Paris le 2 mai 2016."
   ]
  },
  {
   "cell_type": "code",
   "execution_count": 51,
   "id": "ebc8d375",
   "metadata": {},
   "outputs": [
    {
     "data": {
      "text/html": [
       "<div>\n",
       "<style scoped>\n",
       "    .dataframe tbody tr th:only-of-type {\n",
       "        vertical-align: middle;\n",
       "    }\n",
       "\n",
       "    .dataframe tbody tr th {\n",
       "        vertical-align: top;\n",
       "    }\n",
       "\n",
       "    .dataframe thead th {\n",
       "        text-align: right;\n",
       "    }\n",
       "</style>\n",
       "<table border=\"1\" class=\"dataframe\">\n",
       "  <thead>\n",
       "    <tr style=\"text-align: right;\">\n",
       "      <th></th>\n",
       "      <th>id_vol</th>\n",
       "      <th>depart</th>\n",
       "      <th>arrivee</th>\n",
       "      <th>jour</th>\n",
       "      <th>heure</th>\n",
       "      <th>niveau</th>\n",
       "      <th>id_aero</th>\n",
       "    </tr>\n",
       "  </thead>\n",
       "  <tbody>\n",
       "    <tr>\n",
       "      <th>0</th>\n",
       "      <td>AF1204</td>\n",
       "      <td>CDG</td>\n",
       "      <td>FCO</td>\n",
       "      <td>2016-05-02</td>\n",
       "      <td>07:35</td>\n",
       "      <td>300</td>\n",
       "      <td>FCO</td>\n",
       "    </tr>\n",
       "    <tr>\n",
       "      <th>1</th>\n",
       "      <td>AF1205</td>\n",
       "      <td>FCO</td>\n",
       "      <td>CDG</td>\n",
       "      <td>2016-05-02</td>\n",
       "      <td>10:25</td>\n",
       "      <td>300</td>\n",
       "      <td>CDG</td>\n",
       "    </tr>\n",
       "    <tr>\n",
       "      <th>2</th>\n",
       "      <td>AF1504</td>\n",
       "      <td>CDG</td>\n",
       "      <td>FCO</td>\n",
       "      <td>2016-05-02</td>\n",
       "      <td>10:05</td>\n",
       "      <td>310</td>\n",
       "      <td>FCO</td>\n",
       "    </tr>\n",
       "    <tr>\n",
       "      <th>3</th>\n",
       "      <td>AF1505</td>\n",
       "      <td>FCO</td>\n",
       "      <td>CDG</td>\n",
       "      <td>2016-05-02</td>\n",
       "      <td>13:00</td>\n",
       "      <td>310</td>\n",
       "      <td>CDG</td>\n",
       "    </tr>\n",
       "  </tbody>\n",
       "</table>\n",
       "</div>"
      ],
      "text/plain": [
       "   id_vol depart arrivee        jour  heure  niveau id_aero\n",
       "0  AF1204    CDG     FCO  2016-05-02  07:35     300     FCO\n",
       "1  AF1205    FCO     CDG  2016-05-02  10:25     300     CDG\n",
       "2  AF1504    CDG     FCO  2016-05-02  10:05     310     FCO\n",
       "3  AF1505    FCO     CDG  2016-05-02  13:00     310     CDG"
      ]
     },
     "execution_count": 51,
     "metadata": {},
     "output_type": "execute_result"
    }
   ],
   "source": [
    "table_vols = table_vol\n",
    "table_vols['id_aero'] = table_vol['arrivee']\n",
    "table_vols"
   ]
  },
  {
   "cell_type": "code",
   "execution_count": 52,
   "id": "64b70b99",
   "metadata": {},
   "outputs": [
    {
     "data": {
      "text/html": [
       "<div>\n",
       "<style scoped>\n",
       "    .dataframe tbody tr th:only-of-type {\n",
       "        vertical-align: middle;\n",
       "    }\n",
       "\n",
       "    .dataframe tbody tr th {\n",
       "        vertical-align: top;\n",
       "    }\n",
       "\n",
       "    .dataframe thead th {\n",
       "        text-align: right;\n",
       "    }\n",
       "</style>\n",
       "<table border=\"1\" class=\"dataframe\">\n",
       "  <thead>\n",
       "    <tr style=\"text-align: right;\">\n",
       "      <th></th>\n",
       "      <th>id_aero</th>\n",
       "      <th>ville</th>\n",
       "      <th>pays</th>\n",
       "    </tr>\n",
       "  </thead>\n",
       "  <tbody>\n",
       "    <tr>\n",
       "      <th>0</th>\n",
       "      <td>CDG</td>\n",
       "      <td>Paris</td>\n",
       "      <td>France</td>\n",
       "    </tr>\n",
       "    <tr>\n",
       "      <th>1</th>\n",
       "      <td>ORY</td>\n",
       "      <td>Paris</td>\n",
       "      <td>France</td>\n",
       "    </tr>\n",
       "    <tr>\n",
       "      <th>2</th>\n",
       "      <td>MRS</td>\n",
       "      <td>Marseille</td>\n",
       "      <td>France</td>\n",
       "    </tr>\n",
       "    <tr>\n",
       "      <th>3</th>\n",
       "      <td>FCO</td>\n",
       "      <td>Rome</td>\n",
       "      <td>France</td>\n",
       "    </tr>\n",
       "  </tbody>\n",
       "</table>\n",
       "</div>"
      ],
      "text/plain": [
       "  id_aero      ville    pays\n",
       "0     CDG      Paris  France\n",
       "1     ORY      Paris  France\n",
       "2     MRS  Marseille  France\n",
       "3     FCO       Rome  France"
      ]
     },
     "execution_count": 52,
     "metadata": {},
     "output_type": "execute_result"
    }
   ],
   "source": [
    "table_aero"
   ]
  },
  {
   "cell_type": "code",
   "execution_count": 53,
   "id": "726fbaa9",
   "metadata": {},
   "outputs": [],
   "source": [
    "jointure = pd.merge(table_vols,\n",
    "                 table_aero,\n",
    "                 on='id_aero', \n",
    "                 how='left')"
   ]
  },
  {
   "cell_type": "code",
   "execution_count": 54,
   "id": "31c69f1e",
   "metadata": {},
   "outputs": [
    {
     "data": {
      "text/html": [
       "<div>\n",
       "<style scoped>\n",
       "    .dataframe tbody tr th:only-of-type {\n",
       "        vertical-align: middle;\n",
       "    }\n",
       "\n",
       "    .dataframe tbody tr th {\n",
       "        vertical-align: top;\n",
       "    }\n",
       "\n",
       "    .dataframe thead th {\n",
       "        text-align: right;\n",
       "    }\n",
       "</style>\n",
       "<table border=\"1\" class=\"dataframe\">\n",
       "  <thead>\n",
       "    <tr style=\"text-align: right;\">\n",
       "      <th></th>\n",
       "      <th>id_vol</th>\n",
       "      <th>depart</th>\n",
       "      <th>arrivee</th>\n",
       "      <th>jour</th>\n",
       "      <th>heure</th>\n",
       "      <th>niveau</th>\n",
       "      <th>id_aero</th>\n",
       "      <th>ville</th>\n",
       "      <th>pays</th>\n",
       "    </tr>\n",
       "  </thead>\n",
       "  <tbody>\n",
       "    <tr>\n",
       "      <th>0</th>\n",
       "      <td>AF1204</td>\n",
       "      <td>CDG</td>\n",
       "      <td>FCO</td>\n",
       "      <td>2016-05-02</td>\n",
       "      <td>07:35</td>\n",
       "      <td>300</td>\n",
       "      <td>FCO</td>\n",
       "      <td>Rome</td>\n",
       "      <td>France</td>\n",
       "    </tr>\n",
       "    <tr>\n",
       "      <th>1</th>\n",
       "      <td>AF1205</td>\n",
       "      <td>FCO</td>\n",
       "      <td>CDG</td>\n",
       "      <td>2016-05-02</td>\n",
       "      <td>10:25</td>\n",
       "      <td>300</td>\n",
       "      <td>CDG</td>\n",
       "      <td>Paris</td>\n",
       "      <td>France</td>\n",
       "    </tr>\n",
       "    <tr>\n",
       "      <th>2</th>\n",
       "      <td>AF1504</td>\n",
       "      <td>CDG</td>\n",
       "      <td>FCO</td>\n",
       "      <td>2016-05-02</td>\n",
       "      <td>10:05</td>\n",
       "      <td>310</td>\n",
       "      <td>FCO</td>\n",
       "      <td>Rome</td>\n",
       "      <td>France</td>\n",
       "    </tr>\n",
       "    <tr>\n",
       "      <th>3</th>\n",
       "      <td>AF1505</td>\n",
       "      <td>FCO</td>\n",
       "      <td>CDG</td>\n",
       "      <td>2016-05-02</td>\n",
       "      <td>13:00</td>\n",
       "      <td>310</td>\n",
       "      <td>CDG</td>\n",
       "      <td>Paris</td>\n",
       "      <td>France</td>\n",
       "    </tr>\n",
       "  </tbody>\n",
       "</table>\n",
       "</div>"
      ],
      "text/plain": [
       "   id_vol depart arrivee        jour  heure  niveau id_aero  ville    pays\n",
       "0  AF1204    CDG     FCO  2016-05-02  07:35     300     FCO   Rome  France\n",
       "1  AF1205    FCO     CDG  2016-05-02  10:25     300     CDG  Paris  France\n",
       "2  AF1504    CDG     FCO  2016-05-02  10:05     310     FCO   Rome  France\n",
       "3  AF1505    FCO     CDG  2016-05-02  13:00     310     CDG  Paris  France"
      ]
     },
     "execution_count": 54,
     "metadata": {},
     "output_type": "execute_result"
    }
   ],
   "source": [
    "jointure"
   ]
  },
  {
   "cell_type": "code",
   "execution_count": 55,
   "id": "7449402a",
   "metadata": {},
   "outputs": [
    {
     "data": {
      "text/html": [
       "<div>\n",
       "<style scoped>\n",
       "    .dataframe tbody tr th:only-of-type {\n",
       "        vertical-align: middle;\n",
       "    }\n",
       "\n",
       "    .dataframe tbody tr th {\n",
       "        vertical-align: top;\n",
       "    }\n",
       "\n",
       "    .dataframe thead th {\n",
       "        text-align: right;\n",
       "    }\n",
       "</style>\n",
       "<table border=\"1\" class=\"dataframe\">\n",
       "  <thead>\n",
       "    <tr style=\"text-align: right;\">\n",
       "      <th></th>\n",
       "      <th>id_vol</th>\n",
       "      <th>depart</th>\n",
       "      <th>arrivee</th>\n",
       "      <th>jour</th>\n",
       "      <th>heure</th>\n",
       "      <th>niveau</th>\n",
       "      <th>id_aero</th>\n",
       "      <th>ville</th>\n",
       "      <th>pays</th>\n",
       "    </tr>\n",
       "  </thead>\n",
       "  <tbody>\n",
       "    <tr>\n",
       "      <th>1</th>\n",
       "      <td>AF1205</td>\n",
       "      <td>FCO</td>\n",
       "      <td>CDG</td>\n",
       "      <td>2016-05-02</td>\n",
       "      <td>10:25</td>\n",
       "      <td>300</td>\n",
       "      <td>CDG</td>\n",
       "      <td>Paris</td>\n",
       "      <td>France</td>\n",
       "    </tr>\n",
       "    <tr>\n",
       "      <th>3</th>\n",
       "      <td>AF1505</td>\n",
       "      <td>FCO</td>\n",
       "      <td>CDG</td>\n",
       "      <td>2016-05-02</td>\n",
       "      <td>13:00</td>\n",
       "      <td>310</td>\n",
       "      <td>CDG</td>\n",
       "      <td>Paris</td>\n",
       "      <td>France</td>\n",
       "    </tr>\n",
       "  </tbody>\n",
       "</table>\n",
       "</div>"
      ],
      "text/plain": [
       "   id_vol depart arrivee        jour  heure  niveau id_aero  ville    pays\n",
       "1  AF1205    FCO     CDG  2016-05-02  10:25     300     CDG  Paris  France\n",
       "3  AF1505    FCO     CDG  2016-05-02  13:00     310     CDG  Paris  France"
      ]
     },
     "execution_count": 55,
     "metadata": {},
     "output_type": "execute_result"
    }
   ],
   "source": [
    "resultat = jointure[(jointure['ville']=='Paris') & (jointure['jour']=='2016-05-02')]\n",
    "resultat"
   ]
  },
  {
   "cell_type": "markdown",
   "id": "b9d7e410",
   "metadata": {},
   "source": [
    "**Q3** : Que fais la requette suivante:"
   ]
  },
  {
   "cell_type": "markdown",
   "id": "8005f111",
   "metadata": {},
   "source": [
    "Elle renvoie les vols internes à la France le 2 mai 2016."
   ]
  },
  {
   "cell_type": "markdown",
   "id": "5fadbed0",
   "metadata": {},
   "source": [
    "**Q4**: Certains vols peuvent engendrer des conflits potentiels: c'est le cas lorsque deux avions suivent le même trajet, en sens inverse, le même jour et à un même niveau. Faire une requette SQL identifiant les avions étant dans ce cas."
   ]
  },
  {
   "cell_type": "code",
   "execution_count": 56,
   "id": "e7ffaf12",
   "metadata": {},
   "outputs": [
    {
     "data": {
      "text/html": [
       "<div>\n",
       "<style scoped>\n",
       "    .dataframe tbody tr th:only-of-type {\n",
       "        vertical-align: middle;\n",
       "    }\n",
       "\n",
       "    .dataframe tbody tr th {\n",
       "        vertical-align: top;\n",
       "    }\n",
       "\n",
       "    .dataframe thead th {\n",
       "        text-align: right;\n",
       "    }\n",
       "</style>\n",
       "<table border=\"1\" class=\"dataframe\">\n",
       "  <thead>\n",
       "    <tr style=\"text-align: right;\">\n",
       "      <th></th>\n",
       "      <th>id_vol</th>\n",
       "      <th>depart</th>\n",
       "      <th>arrivee</th>\n",
       "      <th>jour</th>\n",
       "      <th>heure</th>\n",
       "      <th>niveau</th>\n",
       "      <th>id_aero</th>\n",
       "    </tr>\n",
       "  </thead>\n",
       "  <tbody>\n",
       "    <tr>\n",
       "      <th>0</th>\n",
       "      <td>AF1204</td>\n",
       "      <td>CDG</td>\n",
       "      <td>FCO</td>\n",
       "      <td>2016-05-02</td>\n",
       "      <td>07:35</td>\n",
       "      <td>300</td>\n",
       "      <td>FCO</td>\n",
       "    </tr>\n",
       "    <tr>\n",
       "      <th>1</th>\n",
       "      <td>AF1205</td>\n",
       "      <td>FCO</td>\n",
       "      <td>CDG</td>\n",
       "      <td>2016-05-02</td>\n",
       "      <td>10:25</td>\n",
       "      <td>300</td>\n",
       "      <td>CDG</td>\n",
       "    </tr>\n",
       "    <tr>\n",
       "      <th>2</th>\n",
       "      <td>AF1504</td>\n",
       "      <td>CDG</td>\n",
       "      <td>FCO</td>\n",
       "      <td>2016-05-02</td>\n",
       "      <td>10:05</td>\n",
       "      <td>310</td>\n",
       "      <td>FCO</td>\n",
       "    </tr>\n",
       "    <tr>\n",
       "      <th>3</th>\n",
       "      <td>AF1505</td>\n",
       "      <td>FCO</td>\n",
       "      <td>CDG</td>\n",
       "      <td>2016-05-02</td>\n",
       "      <td>13:00</td>\n",
       "      <td>310</td>\n",
       "      <td>CDG</td>\n",
       "    </tr>\n",
       "  </tbody>\n",
       "</table>\n",
       "</div>"
      ],
      "text/plain": [
       "   id_vol depart arrivee        jour  heure  niveau id_aero\n",
       "0  AF1204    CDG     FCO  2016-05-02  07:35     300     FCO\n",
       "1  AF1205    FCO     CDG  2016-05-02  10:25     300     CDG\n",
       "2  AF1504    CDG     FCO  2016-05-02  10:05     310     FCO\n",
       "3  AF1505    FCO     CDG  2016-05-02  13:00     310     CDG"
      ]
     },
     "execution_count": 56,
     "metadata": {},
     "output_type": "execute_result"
    }
   ],
   "source": [
    "table_vol"
   ]
  },
  {
   "cell_type": "code",
   "execution_count": 57,
   "id": "7f0ce60b",
   "metadata": {},
   "outputs": [
    {
     "data": {
      "text/html": [
       "<div>\n",
       "<style scoped>\n",
       "    .dataframe tbody tr th:only-of-type {\n",
       "        vertical-align: middle;\n",
       "    }\n",
       "\n",
       "    .dataframe tbody tr th {\n",
       "        vertical-align: top;\n",
       "    }\n",
       "\n",
       "    .dataframe thead th {\n",
       "        text-align: right;\n",
       "    }\n",
       "</style>\n",
       "<table border=\"1\" class=\"dataframe\">\n",
       "  <thead>\n",
       "    <tr style=\"text-align: right;\">\n",
       "      <th></th>\n",
       "      <th>id_vol</th>\n",
       "      <th>depart</th>\n",
       "      <th>arrivee</th>\n",
       "      <th>jour</th>\n",
       "      <th>heure</th>\n",
       "      <th>niveau</th>\n",
       "      <th>id_aero</th>\n",
       "    </tr>\n",
       "  </thead>\n",
       "  <tbody>\n",
       "  </tbody>\n",
       "</table>\n",
       "</div>"
      ],
      "text/plain": [
       "Empty DataFrame\n",
       "Columns: [id_vol, depart, arrivee, jour, heure, niveau, id_aero]\n",
       "Index: []"
      ]
     },
     "execution_count": 57,
     "metadata": {},
     "output_type": "execute_result"
    }
   ],
   "source": [
    "table_vol[table_vol['depart']==table_vol['arrivee']]"
   ]
  },
  {
   "cell_type": "code",
   "execution_count": null,
   "id": "6a0973ed",
   "metadata": {},
   "outputs": [],
   "source": [
    "table_vol[table_vol]"
   ]
  },
  {
   "cell_type": "code",
   "execution_count": 61,
   "id": "753d8015",
   "metadata": {},
   "outputs": [],
   "source": [
    "pysqldf = lambda q: sqldf(q, globals())"
   ]
  },
  {
   "cell_type": "code",
   "execution_count": 66,
   "id": "b737f704",
   "metadata": {},
   "outputs": [
    {
     "data": {
      "text/html": [
       "<div>\n",
       "<style scoped>\n",
       "    .dataframe tbody tr th:only-of-type {\n",
       "        vertical-align: middle;\n",
       "    }\n",
       "\n",
       "    .dataframe tbody tr th {\n",
       "        vertical-align: top;\n",
       "    }\n",
       "\n",
       "    .dataframe thead th {\n",
       "        text-align: right;\n",
       "    }\n",
       "</style>\n",
       "<table border=\"1\" class=\"dataframe\">\n",
       "  <thead>\n",
       "    <tr style=\"text-align: right;\">\n",
       "      <th></th>\n",
       "      <th>id_vol</th>\n",
       "    </tr>\n",
       "  </thead>\n",
       "  <tbody>\n",
       "    <tr>\n",
       "      <th>0</th>\n",
       "      <td>AF1204</td>\n",
       "    </tr>\n",
       "    <tr>\n",
       "      <th>1</th>\n",
       "      <td>AF1205</td>\n",
       "    </tr>\n",
       "    <tr>\n",
       "      <th>2</th>\n",
       "      <td>AF1504</td>\n",
       "    </tr>\n",
       "    <tr>\n",
       "      <th>3</th>\n",
       "      <td>AF1505</td>\n",
       "    </tr>\n",
       "  </tbody>\n",
       "</table>\n",
       "</div>"
      ],
      "text/plain": [
       "   id_vol\n",
       "0  AF1204\n",
       "1  AF1205\n",
       "2  AF1504\n",
       "3  AF1505"
      ]
     },
     "execution_count": 66,
     "metadata": {},
     "output_type": "execute_result"
    }
   ],
   "source": [
    "q = \"\"\"SELECT id_vol \n",
    "           FROM table_vol \n",
    "       \"\"\"\n",
    "\n",
    "names = pysqldf(q)\n",
    "names"
   ]
  },
  {
   "cell_type": "markdown",
   "id": "0a07ad05",
   "metadata": {},
   "source": [
    "**Ecriture des requettes en SQL**"
   ]
  },
  {
   "cell_type": "code",
   "execution_count": 124,
   "id": "6eee9f1c",
   "metadata": {},
   "outputs": [
    {
     "data": {
      "text/html": [
       "<div>\n",
       "<style scoped>\n",
       "    .dataframe tbody tr th:only-of-type {\n",
       "        vertical-align: middle;\n",
       "    }\n",
       "\n",
       "    .dataframe tbody tr th {\n",
       "        vertical-align: top;\n",
       "    }\n",
       "\n",
       "    .dataframe thead th {\n",
       "        text-align: right;\n",
       "    }\n",
       "</style>\n",
       "<table border=\"1\" class=\"dataframe\">\n",
       "  <thead>\n",
       "    <tr style=\"text-align: right;\">\n",
       "      <th></th>\n",
       "      <th>id_vol</th>\n",
       "      <th>depart</th>\n",
       "      <th>arrivee</th>\n",
       "      <th>jour</th>\n",
       "      <th>heure</th>\n",
       "      <th>niveau</th>\n",
       "      <th>id_aero</th>\n",
       "    </tr>\n",
       "  </thead>\n",
       "  <tbody>\n",
       "    <tr>\n",
       "      <th>0</th>\n",
       "      <td>AF1204</td>\n",
       "      <td>CDG</td>\n",
       "      <td>FCO</td>\n",
       "      <td>2016-05-02</td>\n",
       "      <td>07:35</td>\n",
       "      <td>300</td>\n",
       "      <td>FCO</td>\n",
       "    </tr>\n",
       "    <tr>\n",
       "      <th>1</th>\n",
       "      <td>AF1205</td>\n",
       "      <td>FCO</td>\n",
       "      <td>CDG</td>\n",
       "      <td>2016-05-02</td>\n",
       "      <td>10:25</td>\n",
       "      <td>300</td>\n",
       "      <td>CDG</td>\n",
       "    </tr>\n",
       "    <tr>\n",
       "      <th>2</th>\n",
       "      <td>AF1504</td>\n",
       "      <td>CDG</td>\n",
       "      <td>FCO</td>\n",
       "      <td>2016-05-02</td>\n",
       "      <td>10:05</td>\n",
       "      <td>310</td>\n",
       "      <td>FCO</td>\n",
       "    </tr>\n",
       "    <tr>\n",
       "      <th>3</th>\n",
       "      <td>AF1505</td>\n",
       "      <td>FCO</td>\n",
       "      <td>CDG</td>\n",
       "      <td>2016-05-02</td>\n",
       "      <td>13:00</td>\n",
       "      <td>310</td>\n",
       "      <td>CDG</td>\n",
       "    </tr>\n",
       "  </tbody>\n",
       "</table>\n",
       "</div>"
      ],
      "text/plain": [
       "   id_vol depart arrivee        jour  heure  niveau id_aero\n",
       "0  AF1204    CDG     FCO  2016-05-02  07:35     300     FCO\n",
       "1  AF1205    FCO     CDG  2016-05-02  10:25     300     CDG\n",
       "2  AF1504    CDG     FCO  2016-05-02  10:05     310     FCO\n",
       "3  AF1505    FCO     CDG  2016-05-02  13:00     310     CDG"
      ]
     },
     "execution_count": 124,
     "metadata": {},
     "output_type": "execute_result"
    }
   ],
   "source": [
    "table_vol"
   ]
  },
  {
   "cell_type": "code",
   "execution_count": 125,
   "id": "a6230132",
   "metadata": {},
   "outputs": [
    {
     "data": {
      "text/html": [
       "<div>\n",
       "<style scoped>\n",
       "    .dataframe tbody tr th:only-of-type {\n",
       "        vertical-align: middle;\n",
       "    }\n",
       "\n",
       "    .dataframe tbody tr th {\n",
       "        vertical-align: top;\n",
       "    }\n",
       "\n",
       "    .dataframe thead th {\n",
       "        text-align: right;\n",
       "    }\n",
       "</style>\n",
       "<table border=\"1\" class=\"dataframe\">\n",
       "  <thead>\n",
       "    <tr style=\"text-align: right;\">\n",
       "      <th></th>\n",
       "      <th>id_aero</th>\n",
       "      <th>ville</th>\n",
       "      <th>pays</th>\n",
       "    </tr>\n",
       "  </thead>\n",
       "  <tbody>\n",
       "    <tr>\n",
       "      <th>0</th>\n",
       "      <td>CDG</td>\n",
       "      <td>Paris</td>\n",
       "      <td>France</td>\n",
       "    </tr>\n",
       "    <tr>\n",
       "      <th>1</th>\n",
       "      <td>ORY</td>\n",
       "      <td>Paris</td>\n",
       "      <td>France</td>\n",
       "    </tr>\n",
       "    <tr>\n",
       "      <th>2</th>\n",
       "      <td>MRS</td>\n",
       "      <td>Marseille</td>\n",
       "      <td>France</td>\n",
       "    </tr>\n",
       "    <tr>\n",
       "      <th>3</th>\n",
       "      <td>FCO</td>\n",
       "      <td>Rome</td>\n",
       "      <td>France</td>\n",
       "    </tr>\n",
       "  </tbody>\n",
       "</table>\n",
       "</div>"
      ],
      "text/plain": [
       "  id_aero      ville    pays\n",
       "0     CDG      Paris  France\n",
       "1     ORY      Paris  France\n",
       "2     MRS  Marseille  France\n",
       "3     FCO       Rome  France"
      ]
     },
     "execution_count": 125,
     "metadata": {},
     "output_type": "execute_result"
    }
   ],
   "source": [
    "table_aeroport"
   ]
  },
  {
   "cell_type": "markdown",
   "id": "06894961",
   "metadata": {},
   "source": [
    "Nombre de vols au départ d'un aeroport desservant Paris le 2 mai 2016 avant 12h."
   ]
  },
  {
   "cell_type": "code",
   "execution_count": 132,
   "id": "53fef6e2",
   "metadata": {},
   "outputs": [
    {
     "data": {
      "text/html": [
       "<div>\n",
       "<style scoped>\n",
       "    .dataframe tbody tr th:only-of-type {\n",
       "        vertical-align: middle;\n",
       "    }\n",
       "\n",
       "    .dataframe tbody tr th {\n",
       "        vertical-align: top;\n",
       "    }\n",
       "\n",
       "    .dataframe thead th {\n",
       "        text-align: right;\n",
       "    }\n",
       "</style>\n",
       "<table border=\"1\" class=\"dataframe\">\n",
       "  <thead>\n",
       "    <tr style=\"text-align: right;\">\n",
       "      <th></th>\n",
       "      <th>COUNT(id_vol)</th>\n",
       "    </tr>\n",
       "  </thead>\n",
       "  <tbody>\n",
       "    <tr>\n",
       "      <th>0</th>\n",
       "      <td>3</td>\n",
       "    </tr>\n",
       "  </tbody>\n",
       "</table>\n",
       "</div>"
      ],
      "text/plain": [
       "   COUNT(id_vol)\n",
       "0              3"
      ]
     },
     "execution_count": 132,
     "metadata": {},
     "output_type": "execute_result"
    }
   ],
   "source": [
    "q = \"\"\"SELECT COUNT(id_vol)\n",
    "    FROM table_vol\n",
    "    WHERE jour='2016-05-02' AND heure<'12:00'\n",
    "       \"\"\"\n",
    "\n",
    "names = pysqldf(q)\n",
    "names"
   ]
  },
  {
   "cell_type": "markdown",
   "id": "c3e9da47",
   "metadata": {},
   "source": [
    "Liste des numéros de vols au départ d'un aeroport desservant Paris le 2 mai 2016."
   ]
  },
  {
   "cell_type": "code",
   "execution_count": 144,
   "id": "2980a51b",
   "metadata": {},
   "outputs": [
    {
     "data": {
      "text/html": [
       "<div>\n",
       "<style scoped>\n",
       "    .dataframe tbody tr th:only-of-type {\n",
       "        vertical-align: middle;\n",
       "    }\n",
       "\n",
       "    .dataframe tbody tr th {\n",
       "        vertical-align: top;\n",
       "    }\n",
       "\n",
       "    .dataframe thead th {\n",
       "        text-align: right;\n",
       "    }\n",
       "</style>\n",
       "<table border=\"1\" class=\"dataframe\">\n",
       "  <thead>\n",
       "    <tr style=\"text-align: right;\">\n",
       "      <th></th>\n",
       "      <th>id_vol</th>\n",
       "    </tr>\n",
       "  </thead>\n",
       "  <tbody>\n",
       "    <tr>\n",
       "      <th>0</th>\n",
       "      <td>AF1205</td>\n",
       "    </tr>\n",
       "    <tr>\n",
       "      <th>1</th>\n",
       "      <td>AF1505</td>\n",
       "    </tr>\n",
       "  </tbody>\n",
       "</table>\n",
       "</div>"
      ],
      "text/plain": [
       "   id_vol\n",
       "0  AF1205\n",
       "1  AF1505"
      ]
     },
     "execution_count": 144,
     "metadata": {},
     "output_type": "execute_result"
    }
   ],
   "source": [
    "q = \"\"\"SELECT id_vol\n",
    "    FROM table_vol JOIN table_aeroport ON table_vol.arrivee = table_aeroport.id_aero\n",
    "    WHERE ville = \"Paris\" AND jour = '2016-05-02'\n",
    "    \n",
    "       \"\"\"\n",
    "\n",
    "names = pysqldf(q)\n",
    "names"
   ]
  },
  {
   "cell_type": "markdown",
   "id": "cffd80ba",
   "metadata": {},
   "source": [
    "Selection des vols domestiques pour le 2 mai 2016"
   ]
  },
  {
   "cell_type": "code",
   "execution_count": 145,
   "id": "7402bca7",
   "metadata": {},
   "outputs": [
    {
     "data": {
      "text/html": [
       "<div>\n",
       "<style scoped>\n",
       "    .dataframe tbody tr th:only-of-type {\n",
       "        vertical-align: middle;\n",
       "    }\n",
       "\n",
       "    .dataframe tbody tr th {\n",
       "        vertical-align: top;\n",
       "    }\n",
       "\n",
       "    .dataframe thead th {\n",
       "        text-align: right;\n",
       "    }\n",
       "</style>\n",
       "<table border=\"1\" class=\"dataframe\">\n",
       "  <thead>\n",
       "    <tr style=\"text-align: right;\">\n",
       "      <th></th>\n",
       "      <th>id_vol</th>\n",
       "      <th>depart</th>\n",
       "      <th>arrivee</th>\n",
       "      <th>jour</th>\n",
       "      <th>heure</th>\n",
       "      <th>niveau</th>\n",
       "      <th>id_aero</th>\n",
       "    </tr>\n",
       "  </thead>\n",
       "  <tbody>\n",
       "    <tr>\n",
       "      <th>0</th>\n",
       "      <td>AF1204</td>\n",
       "      <td>CDG</td>\n",
       "      <td>FCO</td>\n",
       "      <td>2016-05-02</td>\n",
       "      <td>07:35</td>\n",
       "      <td>300</td>\n",
       "      <td>FCO</td>\n",
       "    </tr>\n",
       "    <tr>\n",
       "      <th>1</th>\n",
       "      <td>AF1205</td>\n",
       "      <td>FCO</td>\n",
       "      <td>CDG</td>\n",
       "      <td>2016-05-02</td>\n",
       "      <td>10:25</td>\n",
       "      <td>300</td>\n",
       "      <td>CDG</td>\n",
       "    </tr>\n",
       "    <tr>\n",
       "      <th>2</th>\n",
       "      <td>AF1504</td>\n",
       "      <td>CDG</td>\n",
       "      <td>FCO</td>\n",
       "      <td>2016-05-02</td>\n",
       "      <td>10:05</td>\n",
       "      <td>310</td>\n",
       "      <td>FCO</td>\n",
       "    </tr>\n",
       "    <tr>\n",
       "      <th>3</th>\n",
       "      <td>AF1505</td>\n",
       "      <td>FCO</td>\n",
       "      <td>CDG</td>\n",
       "      <td>2016-05-02</td>\n",
       "      <td>13:00</td>\n",
       "      <td>310</td>\n",
       "      <td>CDG</td>\n",
       "    </tr>\n",
       "  </tbody>\n",
       "</table>\n",
       "</div>"
      ],
      "text/plain": [
       "   id_vol depart arrivee        jour  heure  niveau id_aero\n",
       "0  AF1204    CDG     FCO  2016-05-02  07:35     300     FCO\n",
       "1  AF1205    FCO     CDG  2016-05-02  10:25     300     CDG\n",
       "2  AF1504    CDG     FCO  2016-05-02  10:05     310     FCO\n",
       "3  AF1505    FCO     CDG  2016-05-02  13:00     310     CDG"
      ]
     },
     "execution_count": 145,
     "metadata": {},
     "output_type": "execute_result"
    }
   ],
   "source": [
    "table_vol"
   ]
  },
  {
   "cell_type": "code",
   "execution_count": 157,
   "id": "aa5b10d6",
   "metadata": {},
   "outputs": [
    {
     "data": {
      "text/html": [
       "<div>\n",
       "<style scoped>\n",
       "    .dataframe tbody tr th:only-of-type {\n",
       "        vertical-align: middle;\n",
       "    }\n",
       "\n",
       "    .dataframe tbody tr th {\n",
       "        vertical-align: top;\n",
       "    }\n",
       "\n",
       "    .dataframe thead th {\n",
       "        text-align: right;\n",
       "    }\n",
       "</style>\n",
       "<table border=\"1\" class=\"dataframe\">\n",
       "  <thead>\n",
       "    <tr style=\"text-align: right;\">\n",
       "      <th></th>\n",
       "      <th>id_aero</th>\n",
       "      <th>ville</th>\n",
       "      <th>pays</th>\n",
       "    </tr>\n",
       "  </thead>\n",
       "  <tbody>\n",
       "    <tr>\n",
       "      <th>0</th>\n",
       "      <td>CDG</td>\n",
       "      <td>Paris</td>\n",
       "      <td>France</td>\n",
       "    </tr>\n",
       "    <tr>\n",
       "      <th>1</th>\n",
       "      <td>ORY</td>\n",
       "      <td>Paris</td>\n",
       "      <td>France</td>\n",
       "    </tr>\n",
       "    <tr>\n",
       "      <th>2</th>\n",
       "      <td>MRS</td>\n",
       "      <td>Marseille</td>\n",
       "      <td>France</td>\n",
       "    </tr>\n",
       "    <tr>\n",
       "      <th>3</th>\n",
       "      <td>FCO</td>\n",
       "      <td>Rome</td>\n",
       "      <td>France</td>\n",
       "    </tr>\n",
       "  </tbody>\n",
       "</table>\n",
       "</div>"
      ],
      "text/plain": [
       "  id_aero      ville    pays\n",
       "0     CDG      Paris  France\n",
       "1     ORY      Paris  France\n",
       "2     MRS  Marseille  France\n",
       "3     FCO       Rome  France"
      ]
     },
     "execution_count": 157,
     "metadata": {},
     "output_type": "execute_result"
    }
   ],
   "source": [
    "table_aeroport"
   ]
  },
  {
   "cell_type": "code",
   "execution_count": 170,
   "id": "7dea4d63",
   "metadata": {},
   "outputs": [
    {
     "data": {
      "text/html": [
       "<div>\n",
       "<style scoped>\n",
       "    .dataframe tbody tr th:only-of-type {\n",
       "        vertical-align: middle;\n",
       "    }\n",
       "\n",
       "    .dataframe tbody tr th {\n",
       "        vertical-align: top;\n",
       "    }\n",
       "\n",
       "    .dataframe thead th {\n",
       "        text-align: right;\n",
       "    }\n",
       "</style>\n",
       "<table border=\"1\" class=\"dataframe\">\n",
       "  <thead>\n",
       "    <tr style=\"text-align: right;\">\n",
       "      <th></th>\n",
       "      <th>id_vol</th>\n",
       "    </tr>\n",
       "  </thead>\n",
       "  <tbody>\n",
       "    <tr>\n",
       "      <th>0</th>\n",
       "      <td>AF1204</td>\n",
       "    </tr>\n",
       "    <tr>\n",
       "      <th>1</th>\n",
       "      <td>AF1205</td>\n",
       "    </tr>\n",
       "    <tr>\n",
       "      <th>2</th>\n",
       "      <td>AF1504</td>\n",
       "    </tr>\n",
       "    <tr>\n",
       "      <th>3</th>\n",
       "      <td>AF1505</td>\n",
       "    </tr>\n",
       "  </tbody>\n",
       "</table>\n",
       "</div>"
      ],
      "text/plain": [
       "   id_vol\n",
       "0  AF1204\n",
       "1  AF1205\n",
       "2  AF1504\n",
       "3  AF1505"
      ]
     },
     "execution_count": 170,
     "metadata": {},
     "output_type": "execute_result"
    }
   ],
   "source": [
    "q = \"\"\"\n",
    "    SELECT id_vol\n",
    "    FROM table_vol \n",
    "        JOIN table_aeroport AS a ON table_vol.arrivee = a.id_aero\n",
    "        JOIN table_aeroport AS d ON table_vol.depart = d.id_aero\n",
    "        WHERE\n",
    "         d.pays='France' AND a.pays='France' AND jour='2016-05-02'\n",
    "    \n",
    "    \n",
    "       \"\"\"\n",
    "\n",
    "names = pysqldf(q)\n",
    "names"
   ]
  },
  {
   "cell_type": "markdown",
   "id": "9cda0efb",
   "metadata": {},
   "source": [
    "Requette SQL des avions sur le meme trajet en sens inverse, le même jour et à un même niveau."
   ]
  },
  {
   "cell_type": "code",
   "execution_count": 177,
   "id": "508f281a",
   "metadata": {},
   "outputs": [
    {
     "data": {
      "text/html": [
       "<div>\n",
       "<style scoped>\n",
       "    .dataframe tbody tr th:only-of-type {\n",
       "        vertical-align: middle;\n",
       "    }\n",
       "\n",
       "    .dataframe tbody tr th {\n",
       "        vertical-align: top;\n",
       "    }\n",
       "\n",
       "    .dataframe thead th {\n",
       "        text-align: right;\n",
       "    }\n",
       "</style>\n",
       "<table border=\"1\" class=\"dataframe\">\n",
       "  <thead>\n",
       "    <tr style=\"text-align: right;\">\n",
       "      <th></th>\n",
       "      <th>Id1</th>\n",
       "      <th>Id2</th>\n",
       "    </tr>\n",
       "  </thead>\n",
       "  <tbody>\n",
       "    <tr>\n",
       "      <th>0</th>\n",
       "      <td>AF1205</td>\n",
       "      <td>AF1204</td>\n",
       "    </tr>\n",
       "    <tr>\n",
       "      <th>1</th>\n",
       "      <td>AF1505</td>\n",
       "      <td>AF1504</td>\n",
       "    </tr>\n",
       "  </tbody>\n",
       "</table>\n",
       "</div>"
      ],
      "text/plain": [
       "      Id1     Id2\n",
       "0  AF1205  AF1204\n",
       "1  AF1505  AF1504"
      ]
     },
     "execution_count": 177,
     "metadata": {},
     "output_type": "execute_result"
    }
   ],
   "source": [
    "q = \"\"\"\n",
    "    SELECT vol1.id_vol AS Id1, vol2.id_vol AS Id2\n",
    "    FROM table_vol AS vol1, table_vol AS vol2\n",
    "    \n",
    "    WHERE vol1.niveau = vol2.niveau AND vol1.depart = vol2.arrivee AND vol1.jour = vol2.jour AND ID1>ID2\n",
    "       \"\"\"\n",
    "\n",
    "names = pysqldf(q)\n",
    "names"
   ]
  },
  {
   "cell_type": "markdown",
   "id": "dbb50e47",
   "metadata": {},
   "source": [
    "# II) Allocation des niveaux de vols"
   ]
  },
  {
   "cell_type": "code",
   "execution_count": 227,
   "id": "eb12e659",
   "metadata": {},
   "outputs": [],
   "source": [
    "conflit = [[0,0,0,100,100,0,0,150,0],\n",
    "          [0,0,0,0,0,50,0,0,0],\n",
    "          [0,0,0,0,200,0,0,300,50],\n",
    "          [100,0,0,0,0,0,400,0,0],\n",
    "           [100,0,200,0,0,0,200,0,100],\n",
    "          [0,50,0,0,0,0,0,0,0],\n",
    "          [0,0,0,400,200,0,0,0,0],\n",
    "          [150,0,300,0,0,0,0,0,0],\n",
    "          [0,0,50,0,100,0,0,0,0]]"
   ]
  },
  {
   "cell_type": "code",
   "execution_count": 228,
   "id": "a3c52006",
   "metadata": {},
   "outputs": [
    {
     "data": {
      "text/plain": [
       "61"
      ]
     },
     "execution_count": 228,
     "metadata": {},
     "output_type": "execute_result"
    }
   ],
   "source": [
    "def nb_conflit():\n",
    "    a = 0 #On initialise le nombre de conflits\n",
    "    for i in range(len(conflit)):\n",
    "        for j in range(len(conflit[0])):\n",
    "            if conflit[i][j]==0:\n",
    "                a+=1\n",
    "    return(a)\n",
    "\n",
    "nb_conflit()"
   ]
  },
  {
   "cell_type": "markdown",
   "id": "55f46d58",
   "metadata": {},
   "source": [
    "La complexité de l'algorithme est en O(n**2)"
   ]
  },
  {
   "cell_type": "markdown",
   "id": "9991a52c",
   "metadata": {},
   "source": [
    "**II) Regulation**"
   ]
  },
  {
   "cell_type": "markdown",
   "id": "6192e310",
   "metadata": {},
   "source": [
    "On a une liste de regulation r=0: RFL r=1: au-dessus r=2: au-dessous"
   ]
  },
  {
   "cell_type": "code",
   "execution_count": 229,
   "id": "8843a268",
   "metadata": {},
   "outputs": [],
   "source": [
    "regulation = [0,0,0,0,0,0,1,1,1,1,2,2,2,1,0,2,1]"
   ]
  },
  {
   "cell_type": "code",
   "execution_count": 230,
   "id": "a8327260",
   "metadata": {},
   "outputs": [],
   "source": [
    "def nb_vol_par_regulation(regulation):\n",
    "    a = sum(x==0 for x in regulation)\n",
    "    b = sum(x==1 for x in regulation)\n",
    "    c = sum(x==2 for x in regulation)\n",
    "    return([a,b,c])"
   ]
  },
  {
   "cell_type": "code",
   "execution_count": 231,
   "id": "1fe33b7b",
   "metadata": {},
   "outputs": [
    {
     "data": {
      "text/plain": [
       "[7, 6, 4]"
      ]
     },
     "execution_count": 231,
     "metadata": {},
     "output_type": "execute_result"
    }
   ],
   "source": [
    "nb_vol_par_regulation(regulation)"
   ]
  },
  {
   "cell_type": "code",
   "execution_count": 232,
   "id": "2f960d9b",
   "metadata": {},
   "outputs": [],
   "source": [
    "def nb_vol_par_regulation1(regulation):\n",
    "    a = 0\n",
    "    b = 0\n",
    "    c = 0\n",
    "    for i in range(len(regulation)):\n",
    "        if regulation[i]==0:\n",
    "            a+=1\n",
    "        if regulation[i]==1:\n",
    "            b+=1\n",
    "        if regulation[i]==2:\n",
    "            c+=1\n",
    "    return([a,b,c])"
   ]
  },
  {
   "cell_type": "code",
   "execution_count": 233,
   "id": "ff15f177",
   "metadata": {},
   "outputs": [
    {
     "data": {
      "text/plain": [
       "[7, 6, 4]"
      ]
     },
     "execution_count": 233,
     "metadata": {},
     "output_type": "execute_result"
    }
   ],
   "source": [
    "nb_vol_par_regulation1(regulation)"
   ]
  },
  {
   "cell_type": "code",
   "execution_count": 234,
   "id": "294eb6b1",
   "metadata": {},
   "outputs": [
    {
     "data": {
      "text/plain": [
       "0"
      ]
     },
     "execution_count": 234,
     "metadata": {},
     "output_type": "execute_result"
    }
   ],
   "source": [
    "2//3"
   ]
  },
  {
   "cell_type": "code",
   "execution_count": 235,
   "id": "b75a69df",
   "metadata": {},
   "outputs": [
    {
     "data": {
      "text/plain": [
       "0.6666666666666666"
      ]
     },
     "execution_count": 235,
     "metadata": {},
     "output_type": "execute_result"
    }
   ],
   "source": [
    "2/3"
   ]
  },
  {
   "cell_type": "markdown",
   "id": "013cdcf9",
   "metadata": {},
   "source": [
    "On a construit la matrice de conflit contenant les couts. On veut une fonction cout_regulation qui prend en paramètre une liste de régulation et renvoie le cout associé."
   ]
  },
  {
   "cell_type": "code",
   "execution_count": 251,
   "id": "a1de0ee4",
   "metadata": {},
   "outputs": [],
   "source": [
    "def cout_regulation(regulation):\n",
    "    L= [] # Liste qui va contenir les sommets associés à chaque vol\n",
    "    cout=0 #Initialisation du cout \n",
    "    for k in range(len(regulation)):\n",
    "        L.append(3*k+regulation[k])#On calcule le sommet de chaque vol. Il vaudrait mieux faire une liste en compréhension.\n",
    "    for i in L:\n",
    "        for j in L:\n",
    "            cout+=conflit[i][j]\n",
    "    #La matrice est symétrique: il faut faire attention\n",
    "    return(cout/2)"
   ]
  },
  {
   "cell_type": "code",
   "execution_count": 255,
   "id": "1c598eab",
   "metadata": {},
   "outputs": [],
   "source": [
    "regulation = [0,0,1]"
   ]
  },
  {
   "cell_type": "code",
   "execution_count": 253,
   "id": "c4b29f5e",
   "metadata": {},
   "outputs": [
    {
     "data": {
      "text/plain": [
       "250.0"
      ]
     },
     "execution_count": 253,
     "metadata": {},
     "output_type": "execute_result"
    }
   ],
   "source": [
    "cout_regulation(regulation)"
   ]
  },
  {
   "cell_type": "markdown",
   "id": "e9c4d3eb",
   "metadata": {},
   "source": [
    "On préfère utiliser les listes en compréhension pour construire des listes."
   ]
  },
  {
   "cell_type": "code",
   "execution_count": 254,
   "id": "10d4db93",
   "metadata": {},
   "outputs": [],
   "source": [
    "def cout_regulation1(regulation):\n",
    "     # sommets Liste qui va contenir les sommets associés à chaque vol\n",
    "    cout=0 #Initialisation du cout \n",
    "    sommets = [3*k+regulation[k] for k in range(len(regulation))]\n",
    "    for i in sommets:\n",
    "        for j in sommets:\n",
    "            cout+=conflit[i][j]\n",
    "    #La matrice est symétrique: il faut faire attention\n",
    "    return(cout/2)"
   ]
  },
  {
   "cell_type": "code",
   "execution_count": 256,
   "id": "57da64e4",
   "metadata": {},
   "outputs": [
    {
     "data": {
      "text/plain": [
       "250.0"
      ]
     },
     "execution_count": 256,
     "metadata": {},
     "output_type": "execute_result"
    }
   ],
   "source": [
    "cout_regulation1(regulation)"
   ]
  },
  {
   "cell_type": "markdown",
   "id": "14674b30",
   "metadata": {},
   "source": [
    "Déduire une fonction cout_RFL() qui renvoie le cout de la régulation pour laquelle chaque avion vole à son RFL."
   ]
  },
  {
   "cell_type": "code",
   "execution_count": 257,
   "id": "c625e23f",
   "metadata": {},
   "outputs": [
    {
     "data": {
      "text/plain": [
       "1"
      ]
     },
     "execution_count": 257,
     "metadata": {},
     "output_type": "execute_result"
    }
   ],
   "source": [
    "3//2"
   ]
  },
  {
   "cell_type": "markdown",
   "id": "909777f6",
   "metadata": {},
   "source": [
    "On veut calculer le cout de la régulation lorsque tous les avions volent à leurs RFL."
   ]
  },
  {
   "cell_type": "code",
   "execution_count": 260,
   "id": "6f900ed1",
   "metadata": {},
   "outputs": [],
   "source": [
    "def cout_RFL():\n",
    "    n = len(conflit)//3\n",
    "    regulation = [0]*n\n",
    "    return(cout_regulation1(regulation))"
   ]
  },
  {
   "cell_type": "code",
   "execution_count": 261,
   "id": "174c2f2c",
   "metadata": {},
   "outputs": [
    {
     "data": {
      "text/plain": [
       "500.0"
      ]
     },
     "execution_count": 261,
     "metadata": {},
     "output_type": "execute_result"
    }
   ],
   "source": [
    "cout_RFL()"
   ]
  },
  {
   "cell_type": "markdown",
   "id": "429e4f82",
   "metadata": {},
   "source": [
    "**Algorithme minimal**"
   ]
  },
  {
   "cell_type": "markdown",
   "id": "72cbc0b8",
   "metadata": {},
   "source": [
    "on veut créer une fonction qui calcule la somme des couts des conflits potentiels dans lequel ce sommet intervient. Algo minimal consiste à trouver le sommet du graphe de cout minimal. Une fois ce dernier trouvé, les deux autres niveaux possibles sont supprimés du graphe et on recommence avec ce nouveau graphe jusqu'à avoir attribué un niveau à chaque vol.\n",
    "Dans la pratique, plutot que de réellement supprimer ces sommets on utilise une liste etat_sommet de 3n entiers tel que:\n",
    "- etat_sommet(s) vaut 0 lorsque le sommet s a été supprimé du graphe\n",
    "- etat_sommet(s) vaut 1 lorsque le sommet s a été choisi dans la régulation\n",
    "- etat_sommet(s) vaut 2 dans les 2 autres cas"
   ]
  },
  {
   "cell_type": "markdown",
   "id": "8fc1e67c",
   "metadata": {},
   "source": [
    "On a 3 vols donc on a en réalité 3 sommets pour chaque vol donc une liste à 9 éléments."
   ]
  },
  {
   "cell_type": "markdown",
   "id": "317e7e97",
   "metadata": {},
   "source": [
    "La matrice conflit est une variable dans l'algorithme."
   ]
  },
  {
   "cell_type": "code",
   "execution_count": 269,
   "id": "822106cf",
   "metadata": {},
   "outputs": [],
   "source": [
    "etat_sommet = [0,1,2,0,1,2,0,1,2]"
   ]
  },
  {
   "cell_type": "code",
   "execution_count": 272,
   "id": "ec3c807b",
   "metadata": {},
   "outputs": [],
   "source": [
    "def cout_du_sommet(s,etat_sommet):\n",
    "    L = [conflit[s][i] for i in range(len(etat_sommet)) if etat_sommet[i]!=0]\n",
    "    return(sum(L))"
   ]
  },
  {
   "cell_type": "code",
   "execution_count": 273,
   "id": "1b70e07f",
   "metadata": {},
   "outputs": [
    {
     "data": {
      "text/plain": [
       "50"
      ]
     },
     "execution_count": 273,
     "metadata": {},
     "output_type": "execute_result"
    }
   ],
   "source": [
    "cout_du_sommet(1,etat_sommet)"
   ]
  },
  {
   "cell_type": "code",
   "execution_count": 274,
   "id": "0ae4f165",
   "metadata": {},
   "outputs": [],
   "source": [
    "L = [1,2,3]"
   ]
  },
  {
   "cell_type": "code",
   "execution_count": 285,
   "id": "ca5e5f75",
   "metadata": {},
   "outputs": [],
   "source": [
    "def sommet_de_cout_min(etat_sommet):\n",
    "    cout_min = float(\"inf\") #Initialisation du cout à la valeur infinie\n",
    "    for s in range(len(etat_sommet)):\n",
    "        if etat_sommet[s]==2:\n",
    "            cout = cout_du_sommet(s,etat_sommet)\n",
    "            if cout < cout_min:\n",
    "                cout_min = cout\n",
    "                rang = s\n",
    "    return(rang)"
   ]
  },
  {
   "cell_type": "code",
   "execution_count": 286,
   "id": "071a1030",
   "metadata": {},
   "outputs": [
    {
     "data": {
      "text/plain": [
       "5"
      ]
     },
     "execution_count": 286,
     "metadata": {},
     "output_type": "execute_result"
    }
   ],
   "source": [
    "sommet_de_cout_min(etat_sommet)"
   ]
  }
 ],
 "metadata": {
  "kernelspec": {
   "display_name": "Python 3 (ipykernel)",
   "language": "python",
   "name": "python3"
  },
  "language_info": {
   "codemirror_mode": {
    "name": "ipython",
    "version": 3
   },
   "file_extension": ".py",
   "mimetype": "text/x-python",
   "name": "python",
   "nbconvert_exporter": "python",
   "pygments_lexer": "ipython3",
   "version": "3.9.13"
  }
 },
 "nbformat": 4,
 "nbformat_minor": 5
}
